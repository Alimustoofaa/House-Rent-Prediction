{
  "cells": [
    {
      "cell_type": "markdown",
      "metadata": {
        "id": "9g6codWbMyfz"
      },
      "source": [
        "## Setup kaggle API and Download datasets"
      ]
    },
    {
      "cell_type": "code",
      "execution_count": 1,
      "metadata": {
        "id": "9VPlpmYAMm9f"
      },
      "outputs": [],
      "source": [
        "!pip install -q kaggle"
      ]
    },
    {
      "cell_type": "code",
      "execution_count": 2,
      "metadata": {
        "id": "bzmUGMw6M261"
      },
      "outputs": [],
      "source": [
        "import json\n",
        "\n",
        "kaggle_token = {\"username\":\"alimustoofaa\",\"key\":\"2813bea47db4baf7c78d2563796b9f12\"}\n",
        "\n",
        "with open('kaggle.json', \"w\") as outfile:\n",
        "    json.dump(kaggle_token, outfile)"
      ]
    },
    {
      "cell_type": "code",
      "execution_count": 3,
      "metadata": {
        "colab": {
          "base_uri": "https://localhost:8080/"
        },
        "id": "Ef5sB5I9M5dT",
        "outputId": "9ed9bba7-89e7-45e2-cc15-a8a6910f9c94"
      },
      "outputs": [
        {
          "output_type": "stream",
          "name": "stdout",
          "text": [
            "kaggle.json\n"
          ]
        }
      ],
      "source": [
        "!mkdir -p ~/.kaggle\n",
        "!mv kaggle.json ~/.kaggle/\n",
        "!chmod 600 ~/.kaggle/kaggle.json\n",
        "!ls ~/.kaggle"
      ]
    },
    {
      "cell_type": "code",
      "execution_count": 4,
      "metadata": {
        "colab": {
          "base_uri": "https://localhost:8080/"
        },
        "id": "fEtCS8FmM8Ke",
        "outputId": "bc7b39b2-307b-4a88-8217-77440b4aa088"
      },
      "outputs": [
        {
          "output_type": "stream",
          "name": "stdout",
          "text": [
            "Downloading houserentpredictiondataset.zip to /content\n",
            " 89% 65.0M/72.9M [00:00<00:00, 131MB/s]\n",
            "100% 72.9M/72.9M [00:00<00:00, 131MB/s]\n",
            "Archive:  houserentpredictiondataset.zip\n",
            "  inflating: houseRent/housePricing.docx  \n",
            "  inflating: houseRent/housing_train.csv  \n"
          ]
        }
      ],
      "source": [
        "!kaggle datasets download -d rkb0023/houserentpredictiondataset\n",
        "!unzip houserentpredictiondataset.zip"
      ]
    },
    {
      "cell_type": "markdown",
      "metadata": {
        "id": "fGVtL6S7Nki7"
      },
      "source": [
        "##Data Understanding & Removing Outlier\n"
      ]
    },
    {
      "cell_type": "code",
      "execution_count": 5,
      "metadata": {
        "id": "74wnCKCKNsZQ"
      },
      "outputs": [],
      "source": [
        "import numpy as np\n",
        "import matplotlib.pyplot as plt\n",
        "import pandas as pd\n",
        "import seaborn as sns\n",
        "\n",
        "%matplotlib inline"
      ]
    },
    {
      "cell_type": "code",
      "execution_count": 6,
      "metadata": {
        "id": "WWPQN6RuNmVS",
        "colab": {
          "base_uri": "https://localhost:8080/",
          "height": 577
        },
        "outputId": "ddcecd08-1258-4d47-a29e-f0edbd2c566e"
      },
      "outputs": [
        {
          "output_type": "execute_result",
          "data": {
            "text/plain": [
              "           id                                                url      region  \\\n",
              "0  7039061606  https://bham.craigslist.org/apa/d/birmingham-h...  birmingham   \n",
              "1  7041970863  https://bham.craigslist.org/apa/d/birmingham-w...  birmingham   \n",
              "2  7041966914  https://bham.craigslist.org/apa/d/birmingham-g...  birmingham   \n",
              "3  7041966936  https://bham.craigslist.org/apa/d/birmingham-f...  birmingham   \n",
              "4  7041966888  https://bham.craigslist.org/apa/d/birmingham-2...  birmingham   \n",
              "\n",
              "                    region_url  price       type  sqfeet  beds  baths  \\\n",
              "0  https://bham.craigslist.org   1195  apartment    1908     3    2.0   \n",
              "1  https://bham.craigslist.org   1120  apartment    1319     3    2.0   \n",
              "2  https://bham.craigslist.org    825  apartment    1133     1    1.5   \n",
              "3  https://bham.craigslist.org    800  apartment     927     1    1.0   \n",
              "4  https://bham.craigslist.org    785  apartment    1047     2    1.0   \n",
              "\n",
              "   cats_allowed  ...  wheelchair_access  electric_vehicle_charge  \\\n",
              "0             1  ...                  0                        0   \n",
              "1             1  ...                  0                        0   \n",
              "2             1  ...                  0                        0   \n",
              "3             1  ...                  0                        0   \n",
              "4             1  ...                  0                        0   \n",
              "\n",
              "   comes_furnished  laundry_options     parking_options  \\\n",
              "0                0  laundry on site      street parking   \n",
              "1                0  laundry on site  off-street parking   \n",
              "2                0  laundry on site      street parking   \n",
              "3                0  laundry on site      street parking   \n",
              "4                0  laundry on site      street parking   \n",
              "\n",
              "                                           image_url  \\\n",
              "0  https://images.craigslist.org/00L0L_80pNkyDeG0...   \n",
              "1  https://images.craigslist.org/00707_uRrY9CsNMC...   \n",
              "2  https://images.craigslist.org/00h0h_b7Bdj1NLBi...   \n",
              "3  https://images.craigslist.org/00808_6ghZ8tSRQs...   \n",
              "4  https://images.craigslist.org/00y0y_21c0FOvUXm...   \n",
              "\n",
              "                                         description      lat     long  state  \n",
              "0  Apartments In Birmingham AL Welcome to 100 Inv...  33.4226 -86.7065     al  \n",
              "1  Find Your Way to Haven Apartment Homes Come ho...  33.3755 -86.8045     al  \n",
              "2  Apartments In Birmingham AL Welcome to 100 Inv...  33.4226 -86.7065     al  \n",
              "3  Apartments In Birmingham AL Welcome to 100 Inv...  33.4226 -86.7065     al  \n",
              "4  Apartments In Birmingham AL Welcome to 100 Inv...  33.4226 -86.7065     al  \n",
              "\n",
              "[5 rows x 22 columns]"
            ],
            "text/html": [
              "\n",
              "  <div id=\"df-f61a7063-c6b2-47b9-913a-2813d66bec5b\">\n",
              "    <div class=\"colab-df-container\">\n",
              "      <div>\n",
              "<style scoped>\n",
              "    .dataframe tbody tr th:only-of-type {\n",
              "        vertical-align: middle;\n",
              "    }\n",
              "\n",
              "    .dataframe tbody tr th {\n",
              "        vertical-align: top;\n",
              "    }\n",
              "\n",
              "    .dataframe thead th {\n",
              "        text-align: right;\n",
              "    }\n",
              "</style>\n",
              "<table border=\"1\" class=\"dataframe\">\n",
              "  <thead>\n",
              "    <tr style=\"text-align: right;\">\n",
              "      <th></th>\n",
              "      <th>id</th>\n",
              "      <th>url</th>\n",
              "      <th>region</th>\n",
              "      <th>region_url</th>\n",
              "      <th>price</th>\n",
              "      <th>type</th>\n",
              "      <th>sqfeet</th>\n",
              "      <th>beds</th>\n",
              "      <th>baths</th>\n",
              "      <th>cats_allowed</th>\n",
              "      <th>...</th>\n",
              "      <th>wheelchair_access</th>\n",
              "      <th>electric_vehicle_charge</th>\n",
              "      <th>comes_furnished</th>\n",
              "      <th>laundry_options</th>\n",
              "      <th>parking_options</th>\n",
              "      <th>image_url</th>\n",
              "      <th>description</th>\n",
              "      <th>lat</th>\n",
              "      <th>long</th>\n",
              "      <th>state</th>\n",
              "    </tr>\n",
              "  </thead>\n",
              "  <tbody>\n",
              "    <tr>\n",
              "      <th>0</th>\n",
              "      <td>7039061606</td>\n",
              "      <td>https://bham.craigslist.org/apa/d/birmingham-h...</td>\n",
              "      <td>birmingham</td>\n",
              "      <td>https://bham.craigslist.org</td>\n",
              "      <td>1195</td>\n",
              "      <td>apartment</td>\n",
              "      <td>1908</td>\n",
              "      <td>3</td>\n",
              "      <td>2.0</td>\n",
              "      <td>1</td>\n",
              "      <td>...</td>\n",
              "      <td>0</td>\n",
              "      <td>0</td>\n",
              "      <td>0</td>\n",
              "      <td>laundry on site</td>\n",
              "      <td>street parking</td>\n",
              "      <td>https://images.craigslist.org/00L0L_80pNkyDeG0...</td>\n",
              "      <td>Apartments In Birmingham AL Welcome to 100 Inv...</td>\n",
              "      <td>33.4226</td>\n",
              "      <td>-86.7065</td>\n",
              "      <td>al</td>\n",
              "    </tr>\n",
              "    <tr>\n",
              "      <th>1</th>\n",
              "      <td>7041970863</td>\n",
              "      <td>https://bham.craigslist.org/apa/d/birmingham-w...</td>\n",
              "      <td>birmingham</td>\n",
              "      <td>https://bham.craigslist.org</td>\n",
              "      <td>1120</td>\n",
              "      <td>apartment</td>\n",
              "      <td>1319</td>\n",
              "      <td>3</td>\n",
              "      <td>2.0</td>\n",
              "      <td>1</td>\n",
              "      <td>...</td>\n",
              "      <td>0</td>\n",
              "      <td>0</td>\n",
              "      <td>0</td>\n",
              "      <td>laundry on site</td>\n",
              "      <td>off-street parking</td>\n",
              "      <td>https://images.craigslist.org/00707_uRrY9CsNMC...</td>\n",
              "      <td>Find Your Way to Haven Apartment Homes Come ho...</td>\n",
              "      <td>33.3755</td>\n",
              "      <td>-86.8045</td>\n",
              "      <td>al</td>\n",
              "    </tr>\n",
              "    <tr>\n",
              "      <th>2</th>\n",
              "      <td>7041966914</td>\n",
              "      <td>https://bham.craigslist.org/apa/d/birmingham-g...</td>\n",
              "      <td>birmingham</td>\n",
              "      <td>https://bham.craigslist.org</td>\n",
              "      <td>825</td>\n",
              "      <td>apartment</td>\n",
              "      <td>1133</td>\n",
              "      <td>1</td>\n",
              "      <td>1.5</td>\n",
              "      <td>1</td>\n",
              "      <td>...</td>\n",
              "      <td>0</td>\n",
              "      <td>0</td>\n",
              "      <td>0</td>\n",
              "      <td>laundry on site</td>\n",
              "      <td>street parking</td>\n",
              "      <td>https://images.craigslist.org/00h0h_b7Bdj1NLBi...</td>\n",
              "      <td>Apartments In Birmingham AL Welcome to 100 Inv...</td>\n",
              "      <td>33.4226</td>\n",
              "      <td>-86.7065</td>\n",
              "      <td>al</td>\n",
              "    </tr>\n",
              "    <tr>\n",
              "      <th>3</th>\n",
              "      <td>7041966936</td>\n",
              "      <td>https://bham.craigslist.org/apa/d/birmingham-f...</td>\n",
              "      <td>birmingham</td>\n",
              "      <td>https://bham.craigslist.org</td>\n",
              "      <td>800</td>\n",
              "      <td>apartment</td>\n",
              "      <td>927</td>\n",
              "      <td>1</td>\n",
              "      <td>1.0</td>\n",
              "      <td>1</td>\n",
              "      <td>...</td>\n",
              "      <td>0</td>\n",
              "      <td>0</td>\n",
              "      <td>0</td>\n",
              "      <td>laundry on site</td>\n",
              "      <td>street parking</td>\n",
              "      <td>https://images.craigslist.org/00808_6ghZ8tSRQs...</td>\n",
              "      <td>Apartments In Birmingham AL Welcome to 100 Inv...</td>\n",
              "      <td>33.4226</td>\n",
              "      <td>-86.7065</td>\n",
              "      <td>al</td>\n",
              "    </tr>\n",
              "    <tr>\n",
              "      <th>4</th>\n",
              "      <td>7041966888</td>\n",
              "      <td>https://bham.craigslist.org/apa/d/birmingham-2...</td>\n",
              "      <td>birmingham</td>\n",
              "      <td>https://bham.craigslist.org</td>\n",
              "      <td>785</td>\n",
              "      <td>apartment</td>\n",
              "      <td>1047</td>\n",
              "      <td>2</td>\n",
              "      <td>1.0</td>\n",
              "      <td>1</td>\n",
              "      <td>...</td>\n",
              "      <td>0</td>\n",
              "      <td>0</td>\n",
              "      <td>0</td>\n",
              "      <td>laundry on site</td>\n",
              "      <td>street parking</td>\n",
              "      <td>https://images.craigslist.org/00y0y_21c0FOvUXm...</td>\n",
              "      <td>Apartments In Birmingham AL Welcome to 100 Inv...</td>\n",
              "      <td>33.4226</td>\n",
              "      <td>-86.7065</td>\n",
              "      <td>al</td>\n",
              "    </tr>\n",
              "  </tbody>\n",
              "</table>\n",
              "<p>5 rows × 22 columns</p>\n",
              "</div>\n",
              "      <button class=\"colab-df-convert\" onclick=\"convertToInteractive('df-f61a7063-c6b2-47b9-913a-2813d66bec5b')\"\n",
              "              title=\"Convert this dataframe to an interactive table.\"\n",
              "              style=\"display:none;\">\n",
              "        \n",
              "  <svg xmlns=\"http://www.w3.org/2000/svg\" height=\"24px\"viewBox=\"0 0 24 24\"\n",
              "       width=\"24px\">\n",
              "    <path d=\"M0 0h24v24H0V0z\" fill=\"none\"/>\n",
              "    <path d=\"M18.56 5.44l.94 2.06.94-2.06 2.06-.94-2.06-.94-.94-2.06-.94 2.06-2.06.94zm-11 1L8.5 8.5l.94-2.06 2.06-.94-2.06-.94L8.5 2.5l-.94 2.06-2.06.94zm10 10l.94 2.06.94-2.06 2.06-.94-2.06-.94-.94-2.06-.94 2.06-2.06.94z\"/><path d=\"M17.41 7.96l-1.37-1.37c-.4-.4-.92-.59-1.43-.59-.52 0-1.04.2-1.43.59L10.3 9.45l-7.72 7.72c-.78.78-.78 2.05 0 2.83L4 21.41c.39.39.9.59 1.41.59.51 0 1.02-.2 1.41-.59l7.78-7.78 2.81-2.81c.8-.78.8-2.07 0-2.86zM5.41 20L4 18.59l7.72-7.72 1.47 1.35L5.41 20z\"/>\n",
              "  </svg>\n",
              "      </button>\n",
              "      \n",
              "  <style>\n",
              "    .colab-df-container {\n",
              "      display:flex;\n",
              "      flex-wrap:wrap;\n",
              "      gap: 12px;\n",
              "    }\n",
              "\n",
              "    .colab-df-convert {\n",
              "      background-color: #E8F0FE;\n",
              "      border: none;\n",
              "      border-radius: 50%;\n",
              "      cursor: pointer;\n",
              "      display: none;\n",
              "      fill: #1967D2;\n",
              "      height: 32px;\n",
              "      padding: 0 0 0 0;\n",
              "      width: 32px;\n",
              "    }\n",
              "\n",
              "    .colab-df-convert:hover {\n",
              "      background-color: #E2EBFA;\n",
              "      box-shadow: 0px 1px 2px rgba(60, 64, 67, 0.3), 0px 1px 3px 1px rgba(60, 64, 67, 0.15);\n",
              "      fill: #174EA6;\n",
              "    }\n",
              "\n",
              "    [theme=dark] .colab-df-convert {\n",
              "      background-color: #3B4455;\n",
              "      fill: #D2E3FC;\n",
              "    }\n",
              "\n",
              "    [theme=dark] .colab-df-convert:hover {\n",
              "      background-color: #434B5C;\n",
              "      box-shadow: 0px 1px 3px 1px rgba(0, 0, 0, 0.15);\n",
              "      filter: drop-shadow(0px 1px 2px rgba(0, 0, 0, 0.3));\n",
              "      fill: #FFFFFF;\n",
              "    }\n",
              "  </style>\n",
              "\n",
              "      <script>\n",
              "        const buttonEl =\n",
              "          document.querySelector('#df-f61a7063-c6b2-47b9-913a-2813d66bec5b button.colab-df-convert');\n",
              "        buttonEl.style.display =\n",
              "          google.colab.kernel.accessAllowed ? 'block' : 'none';\n",
              "\n",
              "        async function convertToInteractive(key) {\n",
              "          const element = document.querySelector('#df-f61a7063-c6b2-47b9-913a-2813d66bec5b');\n",
              "          const dataTable =\n",
              "            await google.colab.kernel.invokeFunction('convertToInteractive',\n",
              "                                                     [key], {});\n",
              "          if (!dataTable) return;\n",
              "\n",
              "          const docLinkHtml = 'Like what you see? Visit the ' +\n",
              "            '<a target=\"_blank\" href=https://colab.research.google.com/notebooks/data_table.ipynb>data table notebook</a>'\n",
              "            + ' to learn more about interactive tables.';\n",
              "          element.innerHTML = '';\n",
              "          dataTable['output_type'] = 'display_data';\n",
              "          await google.colab.output.renderOutput(dataTable, element);\n",
              "          const docLink = document.createElement('div');\n",
              "          docLink.innerHTML = docLinkHtml;\n",
              "          element.appendChild(docLink);\n",
              "        }\n",
              "      </script>\n",
              "    </div>\n",
              "  </div>\n",
              "  "
            ]
          },
          "metadata": {},
          "execution_count": 6
        }
      ],
      "source": [
        "df = pd.read_csv('/content/houseRent/housing_train.csv')\n",
        "df.head()"
      ]
    },
    {
      "cell_type": "markdown",
      "metadata": {
        "id": "ZDgNo1uEeYQD"
      },
      "source": [
        "##Data Understanding & Removing Outlier\n"
      ]
    },
    {
      "cell_type": "code",
      "execution_count": 7,
      "metadata": {
        "id": "K6xHbTXHN5lx",
        "colab": {
          "base_uri": "https://localhost:8080/"
        },
        "outputId": "a5937b73-3c44-445c-d058-56f189e9d23b"
      },
      "outputs": [
        {
          "output_type": "execute_result",
          "data": {
            "text/plain": [
              "Index(['id', 'url', 'region', 'region_url', 'price', 'type', 'sqfeet', 'beds',\n",
              "       'baths', 'cats_allowed', 'dogs_allowed', 'smoking_allowed',\n",
              "       'wheelchair_access', 'electric_vehicle_charge', 'comes_furnished',\n",
              "       'laundry_options', 'parking_options', 'image_url', 'description', 'lat',\n",
              "       'long', 'state'],\n",
              "      dtype='object')"
            ]
          },
          "metadata": {},
          "execution_count": 7
        }
      ],
      "source": [
        "df.columns"
      ]
    },
    {
      "cell_type": "code",
      "execution_count": 8,
      "metadata": {
        "id": "VmHXEwASdIu-",
        "colab": {
          "base_uri": "https://localhost:8080/"
        },
        "outputId": "44dee90e-5924-4b35-9dbe-a34bf8e2215e"
      },
      "outputs": [
        {
          "output_type": "execute_result",
          "data": {
            "text/plain": [
              "(265190, 22)"
            ]
          },
          "metadata": {},
          "execution_count": 8
        }
      ],
      "source": [
        "df.shape"
      ]
    },
    {
      "cell_type": "code",
      "execution_count": 9,
      "metadata": {
        "id": "lDJlmLz2dLRt",
        "colab": {
          "base_uri": "https://localhost:8080/"
        },
        "outputId": "a8796ae9-cd7a-4eef-e544-820955a733f7"
      },
      "outputs": [
        {
          "output_type": "stream",
          "name": "stdout",
          "text": [
            "<class 'pandas.core.frame.DataFrame'>\n",
            "RangeIndex: 265190 entries, 0 to 265189\n",
            "Data columns (total 22 columns):\n",
            " #   Column                   Non-Null Count   Dtype  \n",
            "---  ------                   --------------   -----  \n",
            " 0   id                       265190 non-null  int64  \n",
            " 1   url                      265190 non-null  object \n",
            " 2   region                   265190 non-null  object \n",
            " 3   region_url               265190 non-null  object \n",
            " 4   price                    265190 non-null  int64  \n",
            " 5   type                     265190 non-null  object \n",
            " 6   sqfeet                   265190 non-null  int64  \n",
            " 7   beds                     265190 non-null  int64  \n",
            " 8   baths                    265190 non-null  float64\n",
            " 9   cats_allowed             265190 non-null  int64  \n",
            " 10  dogs_allowed             265190 non-null  int64  \n",
            " 11  smoking_allowed          265190 non-null  int64  \n",
            " 12  wheelchair_access        265190 non-null  int64  \n",
            " 13  electric_vehicle_charge  265190 non-null  int64  \n",
            " 14  comes_furnished          265190 non-null  int64  \n",
            " 15  laundry_options          210879 non-null  object \n",
            " 16  parking_options          170055 non-null  object \n",
            " 17  image_url                265190 non-null  object \n",
            " 18  description              265188 non-null  object \n",
            " 19  lat                      263771 non-null  float64\n",
            " 20  long                     263771 non-null  float64\n",
            " 21  state                    265189 non-null  object \n",
            "dtypes: float64(3), int64(10), object(9)\n",
            "memory usage: 44.5+ MB\n"
          ]
        }
      ],
      "source": [
        "df.info()"
      ]
    },
    {
      "cell_type": "code",
      "execution_count": 10,
      "metadata": {
        "id": "WM4wGEeAdQCq",
        "colab": {
          "base_uri": "https://localhost:8080/",
          "height": 364
        },
        "outputId": "e0db079c-d210-4f8c-840b-13b12c0ff236"
      },
      "outputs": [
        {
          "output_type": "execute_result",
          "data": {
            "text/plain": [
              "                 id         price        sqfeet           beds          baths  \\\n",
              "count  2.651900e+05  2.651900e+05  2.651900e+05  265190.000000  265190.000000   \n",
              "mean   7.040888e+09  1.227285e+04  1.093678e+03       1.912414       1.483468   \n",
              "std    8.778930e+06  5.376352e+06  2.306888e+04       3.691900       0.630208   \n",
              "min    7.003808e+09  0.000000e+00  0.000000e+00       0.000000       0.000000   \n",
              "25%    7.035963e+09  8.170000e+02  7.520000e+02       1.000000       1.000000   \n",
              "50%    7.043109e+09  1.060000e+03  9.500000e+02       2.000000       1.000000   \n",
              "75%    7.048362e+09  1.450000e+03  1.156000e+03       2.000000       2.000000   \n",
              "max    7.051263e+09  2.768307e+09  8.388607e+06    1100.000000      75.000000   \n",
              "\n",
              "        cats_allowed   dogs_allowed  smoking_allowed  wheelchair_access  \\\n",
              "count  265190.000000  265190.000000    265190.000000      265190.000000   \n",
              "mean        0.716822       0.696550         0.733896           0.078759   \n",
              "std         0.450543       0.459749         0.441920           0.269362   \n",
              "min         0.000000       0.000000         0.000000           0.000000   \n",
              "25%         0.000000       0.000000         0.000000           0.000000   \n",
              "50%         1.000000       1.000000         1.000000           0.000000   \n",
              "75%         1.000000       1.000000         1.000000           0.000000   \n",
              "max         1.000000       1.000000         1.000000           1.000000   \n",
              "\n",
              "       electric_vehicle_charge  comes_furnished            lat           long  \n",
              "count            265190.000000    265190.000000  263771.000000  263771.000000  \n",
              "mean                  0.014360         0.048644      37.208855     -92.398149  \n",
              "std                   0.118968         0.215124       5.659648      17.370780  \n",
              "min                   0.000000         0.000000     -43.533300    -163.894000  \n",
              "25%                   0.000000         0.000000      33.508500    -104.704000  \n",
              "50%                   0.000000         0.000000      37.984900     -86.478300  \n",
              "75%                   0.000000         0.000000      41.168400     -81.284600  \n",
              "max                   1.000000         1.000000     102.036000     172.633000  "
            ],
            "text/html": [
              "\n",
              "  <div id=\"df-de69ab7a-13ea-4027-b2e7-f30b8ea409bf\">\n",
              "    <div class=\"colab-df-container\">\n",
              "      <div>\n",
              "<style scoped>\n",
              "    .dataframe tbody tr th:only-of-type {\n",
              "        vertical-align: middle;\n",
              "    }\n",
              "\n",
              "    .dataframe tbody tr th {\n",
              "        vertical-align: top;\n",
              "    }\n",
              "\n",
              "    .dataframe thead th {\n",
              "        text-align: right;\n",
              "    }\n",
              "</style>\n",
              "<table border=\"1\" class=\"dataframe\">\n",
              "  <thead>\n",
              "    <tr style=\"text-align: right;\">\n",
              "      <th></th>\n",
              "      <th>id</th>\n",
              "      <th>price</th>\n",
              "      <th>sqfeet</th>\n",
              "      <th>beds</th>\n",
              "      <th>baths</th>\n",
              "      <th>cats_allowed</th>\n",
              "      <th>dogs_allowed</th>\n",
              "      <th>smoking_allowed</th>\n",
              "      <th>wheelchair_access</th>\n",
              "      <th>electric_vehicle_charge</th>\n",
              "      <th>comes_furnished</th>\n",
              "      <th>lat</th>\n",
              "      <th>long</th>\n",
              "    </tr>\n",
              "  </thead>\n",
              "  <tbody>\n",
              "    <tr>\n",
              "      <th>count</th>\n",
              "      <td>2.651900e+05</td>\n",
              "      <td>2.651900e+05</td>\n",
              "      <td>2.651900e+05</td>\n",
              "      <td>265190.000000</td>\n",
              "      <td>265190.000000</td>\n",
              "      <td>265190.000000</td>\n",
              "      <td>265190.000000</td>\n",
              "      <td>265190.000000</td>\n",
              "      <td>265190.000000</td>\n",
              "      <td>265190.000000</td>\n",
              "      <td>265190.000000</td>\n",
              "      <td>263771.000000</td>\n",
              "      <td>263771.000000</td>\n",
              "    </tr>\n",
              "    <tr>\n",
              "      <th>mean</th>\n",
              "      <td>7.040888e+09</td>\n",
              "      <td>1.227285e+04</td>\n",
              "      <td>1.093678e+03</td>\n",
              "      <td>1.912414</td>\n",
              "      <td>1.483468</td>\n",
              "      <td>0.716822</td>\n",
              "      <td>0.696550</td>\n",
              "      <td>0.733896</td>\n",
              "      <td>0.078759</td>\n",
              "      <td>0.014360</td>\n",
              "      <td>0.048644</td>\n",
              "      <td>37.208855</td>\n",
              "      <td>-92.398149</td>\n",
              "    </tr>\n",
              "    <tr>\n",
              "      <th>std</th>\n",
              "      <td>8.778930e+06</td>\n",
              "      <td>5.376352e+06</td>\n",
              "      <td>2.306888e+04</td>\n",
              "      <td>3.691900</td>\n",
              "      <td>0.630208</td>\n",
              "      <td>0.450543</td>\n",
              "      <td>0.459749</td>\n",
              "      <td>0.441920</td>\n",
              "      <td>0.269362</td>\n",
              "      <td>0.118968</td>\n",
              "      <td>0.215124</td>\n",
              "      <td>5.659648</td>\n",
              "      <td>17.370780</td>\n",
              "    </tr>\n",
              "    <tr>\n",
              "      <th>min</th>\n",
              "      <td>7.003808e+09</td>\n",
              "      <td>0.000000e+00</td>\n",
              "      <td>0.000000e+00</td>\n",
              "      <td>0.000000</td>\n",
              "      <td>0.000000</td>\n",
              "      <td>0.000000</td>\n",
              "      <td>0.000000</td>\n",
              "      <td>0.000000</td>\n",
              "      <td>0.000000</td>\n",
              "      <td>0.000000</td>\n",
              "      <td>0.000000</td>\n",
              "      <td>-43.533300</td>\n",
              "      <td>-163.894000</td>\n",
              "    </tr>\n",
              "    <tr>\n",
              "      <th>25%</th>\n",
              "      <td>7.035963e+09</td>\n",
              "      <td>8.170000e+02</td>\n",
              "      <td>7.520000e+02</td>\n",
              "      <td>1.000000</td>\n",
              "      <td>1.000000</td>\n",
              "      <td>0.000000</td>\n",
              "      <td>0.000000</td>\n",
              "      <td>0.000000</td>\n",
              "      <td>0.000000</td>\n",
              "      <td>0.000000</td>\n",
              "      <td>0.000000</td>\n",
              "      <td>33.508500</td>\n",
              "      <td>-104.704000</td>\n",
              "    </tr>\n",
              "    <tr>\n",
              "      <th>50%</th>\n",
              "      <td>7.043109e+09</td>\n",
              "      <td>1.060000e+03</td>\n",
              "      <td>9.500000e+02</td>\n",
              "      <td>2.000000</td>\n",
              "      <td>1.000000</td>\n",
              "      <td>1.000000</td>\n",
              "      <td>1.000000</td>\n",
              "      <td>1.000000</td>\n",
              "      <td>0.000000</td>\n",
              "      <td>0.000000</td>\n",
              "      <td>0.000000</td>\n",
              "      <td>37.984900</td>\n",
              "      <td>-86.478300</td>\n",
              "    </tr>\n",
              "    <tr>\n",
              "      <th>75%</th>\n",
              "      <td>7.048362e+09</td>\n",
              "      <td>1.450000e+03</td>\n",
              "      <td>1.156000e+03</td>\n",
              "      <td>2.000000</td>\n",
              "      <td>2.000000</td>\n",
              "      <td>1.000000</td>\n",
              "      <td>1.000000</td>\n",
              "      <td>1.000000</td>\n",
              "      <td>0.000000</td>\n",
              "      <td>0.000000</td>\n",
              "      <td>0.000000</td>\n",
              "      <td>41.168400</td>\n",
              "      <td>-81.284600</td>\n",
              "    </tr>\n",
              "    <tr>\n",
              "      <th>max</th>\n",
              "      <td>7.051263e+09</td>\n",
              "      <td>2.768307e+09</td>\n",
              "      <td>8.388607e+06</td>\n",
              "      <td>1100.000000</td>\n",
              "      <td>75.000000</td>\n",
              "      <td>1.000000</td>\n",
              "      <td>1.000000</td>\n",
              "      <td>1.000000</td>\n",
              "      <td>1.000000</td>\n",
              "      <td>1.000000</td>\n",
              "      <td>1.000000</td>\n",
              "      <td>102.036000</td>\n",
              "      <td>172.633000</td>\n",
              "    </tr>\n",
              "  </tbody>\n",
              "</table>\n",
              "</div>\n",
              "      <button class=\"colab-df-convert\" onclick=\"convertToInteractive('df-de69ab7a-13ea-4027-b2e7-f30b8ea409bf')\"\n",
              "              title=\"Convert this dataframe to an interactive table.\"\n",
              "              style=\"display:none;\">\n",
              "        \n",
              "  <svg xmlns=\"http://www.w3.org/2000/svg\" height=\"24px\"viewBox=\"0 0 24 24\"\n",
              "       width=\"24px\">\n",
              "    <path d=\"M0 0h24v24H0V0z\" fill=\"none\"/>\n",
              "    <path d=\"M18.56 5.44l.94 2.06.94-2.06 2.06-.94-2.06-.94-.94-2.06-.94 2.06-2.06.94zm-11 1L8.5 8.5l.94-2.06 2.06-.94-2.06-.94L8.5 2.5l-.94 2.06-2.06.94zm10 10l.94 2.06.94-2.06 2.06-.94-2.06-.94-.94-2.06-.94 2.06-2.06.94z\"/><path d=\"M17.41 7.96l-1.37-1.37c-.4-.4-.92-.59-1.43-.59-.52 0-1.04.2-1.43.59L10.3 9.45l-7.72 7.72c-.78.78-.78 2.05 0 2.83L4 21.41c.39.39.9.59 1.41.59.51 0 1.02-.2 1.41-.59l7.78-7.78 2.81-2.81c.8-.78.8-2.07 0-2.86zM5.41 20L4 18.59l7.72-7.72 1.47 1.35L5.41 20z\"/>\n",
              "  </svg>\n",
              "      </button>\n",
              "      \n",
              "  <style>\n",
              "    .colab-df-container {\n",
              "      display:flex;\n",
              "      flex-wrap:wrap;\n",
              "      gap: 12px;\n",
              "    }\n",
              "\n",
              "    .colab-df-convert {\n",
              "      background-color: #E8F0FE;\n",
              "      border: none;\n",
              "      border-radius: 50%;\n",
              "      cursor: pointer;\n",
              "      display: none;\n",
              "      fill: #1967D2;\n",
              "      height: 32px;\n",
              "      padding: 0 0 0 0;\n",
              "      width: 32px;\n",
              "    }\n",
              "\n",
              "    .colab-df-convert:hover {\n",
              "      background-color: #E2EBFA;\n",
              "      box-shadow: 0px 1px 2px rgba(60, 64, 67, 0.3), 0px 1px 3px 1px rgba(60, 64, 67, 0.15);\n",
              "      fill: #174EA6;\n",
              "    }\n",
              "\n",
              "    [theme=dark] .colab-df-convert {\n",
              "      background-color: #3B4455;\n",
              "      fill: #D2E3FC;\n",
              "    }\n",
              "\n",
              "    [theme=dark] .colab-df-convert:hover {\n",
              "      background-color: #434B5C;\n",
              "      box-shadow: 0px 1px 3px 1px rgba(0, 0, 0, 0.15);\n",
              "      filter: drop-shadow(0px 1px 2px rgba(0, 0, 0, 0.3));\n",
              "      fill: #FFFFFF;\n",
              "    }\n",
              "  </style>\n",
              "\n",
              "      <script>\n",
              "        const buttonEl =\n",
              "          document.querySelector('#df-de69ab7a-13ea-4027-b2e7-f30b8ea409bf button.colab-df-convert');\n",
              "        buttonEl.style.display =\n",
              "          google.colab.kernel.accessAllowed ? 'block' : 'none';\n",
              "\n",
              "        async function convertToInteractive(key) {\n",
              "          const element = document.querySelector('#df-de69ab7a-13ea-4027-b2e7-f30b8ea409bf');\n",
              "          const dataTable =\n",
              "            await google.colab.kernel.invokeFunction('convertToInteractive',\n",
              "                                                     [key], {});\n",
              "          if (!dataTable) return;\n",
              "\n",
              "          const docLinkHtml = 'Like what you see? Visit the ' +\n",
              "            '<a target=\"_blank\" href=https://colab.research.google.com/notebooks/data_table.ipynb>data table notebook</a>'\n",
              "            + ' to learn more about interactive tables.';\n",
              "          element.innerHTML = '';\n",
              "          dataTable['output_type'] = 'display_data';\n",
              "          await google.colab.output.renderOutput(dataTable, element);\n",
              "          const docLink = document.createElement('div');\n",
              "          docLink.innerHTML = docLinkHtml;\n",
              "          element.appendChild(docLink);\n",
              "        }\n",
              "      </script>\n",
              "    </div>\n",
              "  </div>\n",
              "  "
            ]
          },
          "metadata": {},
          "execution_count": 10
        }
      ],
      "source": [
        "df.describe()"
      ]
    },
    {
      "cell_type": "markdown",
      "metadata": {
        "id": "IonvA10XZiW5"
      },
      "source": [
        "# Formating Data"
      ]
    },
    {
      "cell_type": "code",
      "execution_count": 11,
      "metadata": {
        "id": "3NPBwBFfOQZb",
        "colab": {
          "base_uri": "https://localhost:8080/",
          "height": 270
        },
        "outputId": "467f6268-76c2-4d3d-ef0a-c176c2fa8fa8"
      },
      "outputs": [
        {
          "output_type": "execute_result",
          "data": {
            "text/plain": [
              "       region  price       type  sqfeet  beds  baths  cats_allowed  \\\n",
              "0  birmingham   1195  apartment    1908     3    2.0             1   \n",
              "1  birmingham   1120  apartment    1319     3    2.0             1   \n",
              "2  birmingham    825  apartment    1133     1    1.5             1   \n",
              "3  birmingham    800  apartment     927     1    1.0             1   \n",
              "4  birmingham    785  apartment    1047     2    1.0             1   \n",
              "\n",
              "   dogs_allowed  smoking_allowed  wheelchair_access  electric_vehicle_charge  \\\n",
              "0             1                1                  0                        0   \n",
              "1             1                1                  0                        0   \n",
              "2             1                1                  0                        0   \n",
              "3             1                1                  0                        0   \n",
              "4             1                1                  0                        0   \n",
              "\n",
              "   comes_furnished  laundry_options     parking_options state  \n",
              "0                0  laundry on site      street parking    al  \n",
              "1                0  laundry on site  off-street parking    al  \n",
              "2                0  laundry on site      street parking    al  \n",
              "3                0  laundry on site      street parking    al  \n",
              "4                0  laundry on site      street parking    al  "
            ],
            "text/html": [
              "\n",
              "  <div id=\"df-81dd1fc1-d6a4-4475-9e98-659aece1e258\">\n",
              "    <div class=\"colab-df-container\">\n",
              "      <div>\n",
              "<style scoped>\n",
              "    .dataframe tbody tr th:only-of-type {\n",
              "        vertical-align: middle;\n",
              "    }\n",
              "\n",
              "    .dataframe tbody tr th {\n",
              "        vertical-align: top;\n",
              "    }\n",
              "\n",
              "    .dataframe thead th {\n",
              "        text-align: right;\n",
              "    }\n",
              "</style>\n",
              "<table border=\"1\" class=\"dataframe\">\n",
              "  <thead>\n",
              "    <tr style=\"text-align: right;\">\n",
              "      <th></th>\n",
              "      <th>region</th>\n",
              "      <th>price</th>\n",
              "      <th>type</th>\n",
              "      <th>sqfeet</th>\n",
              "      <th>beds</th>\n",
              "      <th>baths</th>\n",
              "      <th>cats_allowed</th>\n",
              "      <th>dogs_allowed</th>\n",
              "      <th>smoking_allowed</th>\n",
              "      <th>wheelchair_access</th>\n",
              "      <th>electric_vehicle_charge</th>\n",
              "      <th>comes_furnished</th>\n",
              "      <th>laundry_options</th>\n",
              "      <th>parking_options</th>\n",
              "      <th>state</th>\n",
              "    </tr>\n",
              "  </thead>\n",
              "  <tbody>\n",
              "    <tr>\n",
              "      <th>0</th>\n",
              "      <td>birmingham</td>\n",
              "      <td>1195</td>\n",
              "      <td>apartment</td>\n",
              "      <td>1908</td>\n",
              "      <td>3</td>\n",
              "      <td>2.0</td>\n",
              "      <td>1</td>\n",
              "      <td>1</td>\n",
              "      <td>1</td>\n",
              "      <td>0</td>\n",
              "      <td>0</td>\n",
              "      <td>0</td>\n",
              "      <td>laundry on site</td>\n",
              "      <td>street parking</td>\n",
              "      <td>al</td>\n",
              "    </tr>\n",
              "    <tr>\n",
              "      <th>1</th>\n",
              "      <td>birmingham</td>\n",
              "      <td>1120</td>\n",
              "      <td>apartment</td>\n",
              "      <td>1319</td>\n",
              "      <td>3</td>\n",
              "      <td>2.0</td>\n",
              "      <td>1</td>\n",
              "      <td>1</td>\n",
              "      <td>1</td>\n",
              "      <td>0</td>\n",
              "      <td>0</td>\n",
              "      <td>0</td>\n",
              "      <td>laundry on site</td>\n",
              "      <td>off-street parking</td>\n",
              "      <td>al</td>\n",
              "    </tr>\n",
              "    <tr>\n",
              "      <th>2</th>\n",
              "      <td>birmingham</td>\n",
              "      <td>825</td>\n",
              "      <td>apartment</td>\n",
              "      <td>1133</td>\n",
              "      <td>1</td>\n",
              "      <td>1.5</td>\n",
              "      <td>1</td>\n",
              "      <td>1</td>\n",
              "      <td>1</td>\n",
              "      <td>0</td>\n",
              "      <td>0</td>\n",
              "      <td>0</td>\n",
              "      <td>laundry on site</td>\n",
              "      <td>street parking</td>\n",
              "      <td>al</td>\n",
              "    </tr>\n",
              "    <tr>\n",
              "      <th>3</th>\n",
              "      <td>birmingham</td>\n",
              "      <td>800</td>\n",
              "      <td>apartment</td>\n",
              "      <td>927</td>\n",
              "      <td>1</td>\n",
              "      <td>1.0</td>\n",
              "      <td>1</td>\n",
              "      <td>1</td>\n",
              "      <td>1</td>\n",
              "      <td>0</td>\n",
              "      <td>0</td>\n",
              "      <td>0</td>\n",
              "      <td>laundry on site</td>\n",
              "      <td>street parking</td>\n",
              "      <td>al</td>\n",
              "    </tr>\n",
              "    <tr>\n",
              "      <th>4</th>\n",
              "      <td>birmingham</td>\n",
              "      <td>785</td>\n",
              "      <td>apartment</td>\n",
              "      <td>1047</td>\n",
              "      <td>2</td>\n",
              "      <td>1.0</td>\n",
              "      <td>1</td>\n",
              "      <td>1</td>\n",
              "      <td>1</td>\n",
              "      <td>0</td>\n",
              "      <td>0</td>\n",
              "      <td>0</td>\n",
              "      <td>laundry on site</td>\n",
              "      <td>street parking</td>\n",
              "      <td>al</td>\n",
              "    </tr>\n",
              "  </tbody>\n",
              "</table>\n",
              "</div>\n",
              "      <button class=\"colab-df-convert\" onclick=\"convertToInteractive('df-81dd1fc1-d6a4-4475-9e98-659aece1e258')\"\n",
              "              title=\"Convert this dataframe to an interactive table.\"\n",
              "              style=\"display:none;\">\n",
              "        \n",
              "  <svg xmlns=\"http://www.w3.org/2000/svg\" height=\"24px\"viewBox=\"0 0 24 24\"\n",
              "       width=\"24px\">\n",
              "    <path d=\"M0 0h24v24H0V0z\" fill=\"none\"/>\n",
              "    <path d=\"M18.56 5.44l.94 2.06.94-2.06 2.06-.94-2.06-.94-.94-2.06-.94 2.06-2.06.94zm-11 1L8.5 8.5l.94-2.06 2.06-.94-2.06-.94L8.5 2.5l-.94 2.06-2.06.94zm10 10l.94 2.06.94-2.06 2.06-.94-2.06-.94-.94-2.06-.94 2.06-2.06.94z\"/><path d=\"M17.41 7.96l-1.37-1.37c-.4-.4-.92-.59-1.43-.59-.52 0-1.04.2-1.43.59L10.3 9.45l-7.72 7.72c-.78.78-.78 2.05 0 2.83L4 21.41c.39.39.9.59 1.41.59.51 0 1.02-.2 1.41-.59l7.78-7.78 2.81-2.81c.8-.78.8-2.07 0-2.86zM5.41 20L4 18.59l7.72-7.72 1.47 1.35L5.41 20z\"/>\n",
              "  </svg>\n",
              "      </button>\n",
              "      \n",
              "  <style>\n",
              "    .colab-df-container {\n",
              "      display:flex;\n",
              "      flex-wrap:wrap;\n",
              "      gap: 12px;\n",
              "    }\n",
              "\n",
              "    .colab-df-convert {\n",
              "      background-color: #E8F0FE;\n",
              "      border: none;\n",
              "      border-radius: 50%;\n",
              "      cursor: pointer;\n",
              "      display: none;\n",
              "      fill: #1967D2;\n",
              "      height: 32px;\n",
              "      padding: 0 0 0 0;\n",
              "      width: 32px;\n",
              "    }\n",
              "\n",
              "    .colab-df-convert:hover {\n",
              "      background-color: #E2EBFA;\n",
              "      box-shadow: 0px 1px 2px rgba(60, 64, 67, 0.3), 0px 1px 3px 1px rgba(60, 64, 67, 0.15);\n",
              "      fill: #174EA6;\n",
              "    }\n",
              "\n",
              "    [theme=dark] .colab-df-convert {\n",
              "      background-color: #3B4455;\n",
              "      fill: #D2E3FC;\n",
              "    }\n",
              "\n",
              "    [theme=dark] .colab-df-convert:hover {\n",
              "      background-color: #434B5C;\n",
              "      box-shadow: 0px 1px 3px 1px rgba(0, 0, 0, 0.15);\n",
              "      filter: drop-shadow(0px 1px 2px rgba(0, 0, 0, 0.3));\n",
              "      fill: #FFFFFF;\n",
              "    }\n",
              "  </style>\n",
              "\n",
              "      <script>\n",
              "        const buttonEl =\n",
              "          document.querySelector('#df-81dd1fc1-d6a4-4475-9e98-659aece1e258 button.colab-df-convert');\n",
              "        buttonEl.style.display =\n",
              "          google.colab.kernel.accessAllowed ? 'block' : 'none';\n",
              "\n",
              "        async function convertToInteractive(key) {\n",
              "          const element = document.querySelector('#df-81dd1fc1-d6a4-4475-9e98-659aece1e258');\n",
              "          const dataTable =\n",
              "            await google.colab.kernel.invokeFunction('convertToInteractive',\n",
              "                                                     [key], {});\n",
              "          if (!dataTable) return;\n",
              "\n",
              "          const docLinkHtml = 'Like what you see? Visit the ' +\n",
              "            '<a target=\"_blank\" href=https://colab.research.google.com/notebooks/data_table.ipynb>data table notebook</a>'\n",
              "            + ' to learn more about interactive tables.';\n",
              "          element.innerHTML = '';\n",
              "          dataTable['output_type'] = 'display_data';\n",
              "          await google.colab.output.renderOutput(dataTable, element);\n",
              "          const docLink = document.createElement('div');\n",
              "          docLink.innerHTML = docLinkHtml;\n",
              "          element.appendChild(docLink);\n",
              "        }\n",
              "      </script>\n",
              "    </div>\n",
              "  </div>\n",
              "  "
            ]
          },
          "metadata": {},
          "execution_count": 11
        }
      ],
      "source": [
        "# Column id url region_url image_url description lat long\n",
        "df  = df.drop(['id','url','region_url','image_url','description','lat','long'], axis = 'columns')\n",
        "df.head()"
      ]
    },
    {
      "cell_type": "code",
      "execution_count": 12,
      "metadata": {
        "id": "CvS12R8kkua9",
        "colab": {
          "base_uri": "https://localhost:8080/",
          "height": 322
        },
        "outputId": "0525ef13-0554-43e5-fa6c-72519737d59d"
      },
      "outputs": [
        {
          "output_type": "stream",
          "name": "stderr",
          "text": [
            "/usr/local/lib/python3.7/dist-packages/ipykernel_launcher.py:3: DeprecationWarning: `np.int` is a deprecated alias for the builtin `int`. To silence this warning, use `int` by itself. Doing this will not modify any behavior and is safe. When replacing `np.int`, you may wish to use e.g. `np.int64` or `np.int32` to specify the precision. If you wish to review your current use, check the release note link for additional information.\n",
            "Deprecated in NumPy 1.20; for more details and guidance: https://numpy.org/devdocs/release/1.20.0-notes.html#deprecations\n",
            "  This is separate from the ipykernel package so we can avoid doing imports until\n"
          ]
        },
        {
          "output_type": "execute_result",
          "data": {
            "text/plain": [
              "       region  price       type  sqfeet  beds  baths  cats_allowed  \\\n",
              "0  birmingham   1195  apartment    1908     3      2             1   \n",
              "1  birmingham   1120  apartment    1319     3      2             1   \n",
              "2  birmingham    825  apartment    1133     1      2             1   \n",
              "3  birmingham    800  apartment     927     1      1             1   \n",
              "4  birmingham    785  apartment    1047     2      1             1   \n",
              "\n",
              "   dogs_allowed  smoking_allowed  wheelchair_access  electric_vehicle_charge  \\\n",
              "0             1                1                  0                        0   \n",
              "1             1                1                  0                        0   \n",
              "2             1                1                  0                        0   \n",
              "3             1                1                  0                        0   \n",
              "4             1                1                  0                        0   \n",
              "\n",
              "   comes_furnished  laundry_options     parking_options state  \n",
              "0                0  laundry on site      street parking    al  \n",
              "1                0  laundry on site  off-street parking    al  \n",
              "2                0  laundry on site      street parking    al  \n",
              "3                0  laundry on site      street parking    al  \n",
              "4                0  laundry on site      street parking    al  "
            ],
            "text/html": [
              "\n",
              "  <div id=\"df-2e050dae-4d87-44e7-a6df-e18865d90d72\">\n",
              "    <div class=\"colab-df-container\">\n",
              "      <div>\n",
              "<style scoped>\n",
              "    .dataframe tbody tr th:only-of-type {\n",
              "        vertical-align: middle;\n",
              "    }\n",
              "\n",
              "    .dataframe tbody tr th {\n",
              "        vertical-align: top;\n",
              "    }\n",
              "\n",
              "    .dataframe thead th {\n",
              "        text-align: right;\n",
              "    }\n",
              "</style>\n",
              "<table border=\"1\" class=\"dataframe\">\n",
              "  <thead>\n",
              "    <tr style=\"text-align: right;\">\n",
              "      <th></th>\n",
              "      <th>region</th>\n",
              "      <th>price</th>\n",
              "      <th>type</th>\n",
              "      <th>sqfeet</th>\n",
              "      <th>beds</th>\n",
              "      <th>baths</th>\n",
              "      <th>cats_allowed</th>\n",
              "      <th>dogs_allowed</th>\n",
              "      <th>smoking_allowed</th>\n",
              "      <th>wheelchair_access</th>\n",
              "      <th>electric_vehicle_charge</th>\n",
              "      <th>comes_furnished</th>\n",
              "      <th>laundry_options</th>\n",
              "      <th>parking_options</th>\n",
              "      <th>state</th>\n",
              "    </tr>\n",
              "  </thead>\n",
              "  <tbody>\n",
              "    <tr>\n",
              "      <th>0</th>\n",
              "      <td>birmingham</td>\n",
              "      <td>1195</td>\n",
              "      <td>apartment</td>\n",
              "      <td>1908</td>\n",
              "      <td>3</td>\n",
              "      <td>2</td>\n",
              "      <td>1</td>\n",
              "      <td>1</td>\n",
              "      <td>1</td>\n",
              "      <td>0</td>\n",
              "      <td>0</td>\n",
              "      <td>0</td>\n",
              "      <td>laundry on site</td>\n",
              "      <td>street parking</td>\n",
              "      <td>al</td>\n",
              "    </tr>\n",
              "    <tr>\n",
              "      <th>1</th>\n",
              "      <td>birmingham</td>\n",
              "      <td>1120</td>\n",
              "      <td>apartment</td>\n",
              "      <td>1319</td>\n",
              "      <td>3</td>\n",
              "      <td>2</td>\n",
              "      <td>1</td>\n",
              "      <td>1</td>\n",
              "      <td>1</td>\n",
              "      <td>0</td>\n",
              "      <td>0</td>\n",
              "      <td>0</td>\n",
              "      <td>laundry on site</td>\n",
              "      <td>off-street parking</td>\n",
              "      <td>al</td>\n",
              "    </tr>\n",
              "    <tr>\n",
              "      <th>2</th>\n",
              "      <td>birmingham</td>\n",
              "      <td>825</td>\n",
              "      <td>apartment</td>\n",
              "      <td>1133</td>\n",
              "      <td>1</td>\n",
              "      <td>2</td>\n",
              "      <td>1</td>\n",
              "      <td>1</td>\n",
              "      <td>1</td>\n",
              "      <td>0</td>\n",
              "      <td>0</td>\n",
              "      <td>0</td>\n",
              "      <td>laundry on site</td>\n",
              "      <td>street parking</td>\n",
              "      <td>al</td>\n",
              "    </tr>\n",
              "    <tr>\n",
              "      <th>3</th>\n",
              "      <td>birmingham</td>\n",
              "      <td>800</td>\n",
              "      <td>apartment</td>\n",
              "      <td>927</td>\n",
              "      <td>1</td>\n",
              "      <td>1</td>\n",
              "      <td>1</td>\n",
              "      <td>1</td>\n",
              "      <td>1</td>\n",
              "      <td>0</td>\n",
              "      <td>0</td>\n",
              "      <td>0</td>\n",
              "      <td>laundry on site</td>\n",
              "      <td>street parking</td>\n",
              "      <td>al</td>\n",
              "    </tr>\n",
              "    <tr>\n",
              "      <th>4</th>\n",
              "      <td>birmingham</td>\n",
              "      <td>785</td>\n",
              "      <td>apartment</td>\n",
              "      <td>1047</td>\n",
              "      <td>2</td>\n",
              "      <td>1</td>\n",
              "      <td>1</td>\n",
              "      <td>1</td>\n",
              "      <td>1</td>\n",
              "      <td>0</td>\n",
              "      <td>0</td>\n",
              "      <td>0</td>\n",
              "      <td>laundry on site</td>\n",
              "      <td>street parking</td>\n",
              "      <td>al</td>\n",
              "    </tr>\n",
              "  </tbody>\n",
              "</table>\n",
              "</div>\n",
              "      <button class=\"colab-df-convert\" onclick=\"convertToInteractive('df-2e050dae-4d87-44e7-a6df-e18865d90d72')\"\n",
              "              title=\"Convert this dataframe to an interactive table.\"\n",
              "              style=\"display:none;\">\n",
              "        \n",
              "  <svg xmlns=\"http://www.w3.org/2000/svg\" height=\"24px\"viewBox=\"0 0 24 24\"\n",
              "       width=\"24px\">\n",
              "    <path d=\"M0 0h24v24H0V0z\" fill=\"none\"/>\n",
              "    <path d=\"M18.56 5.44l.94 2.06.94-2.06 2.06-.94-2.06-.94-.94-2.06-.94 2.06-2.06.94zm-11 1L8.5 8.5l.94-2.06 2.06-.94-2.06-.94L8.5 2.5l-.94 2.06-2.06.94zm10 10l.94 2.06.94-2.06 2.06-.94-2.06-.94-.94-2.06-.94 2.06-2.06.94z\"/><path d=\"M17.41 7.96l-1.37-1.37c-.4-.4-.92-.59-1.43-.59-.52 0-1.04.2-1.43.59L10.3 9.45l-7.72 7.72c-.78.78-.78 2.05 0 2.83L4 21.41c.39.39.9.59 1.41.59.51 0 1.02-.2 1.41-.59l7.78-7.78 2.81-2.81c.8-.78.8-2.07 0-2.86zM5.41 20L4 18.59l7.72-7.72 1.47 1.35L5.41 20z\"/>\n",
              "  </svg>\n",
              "      </button>\n",
              "      \n",
              "  <style>\n",
              "    .colab-df-container {\n",
              "      display:flex;\n",
              "      flex-wrap:wrap;\n",
              "      gap: 12px;\n",
              "    }\n",
              "\n",
              "    .colab-df-convert {\n",
              "      background-color: #E8F0FE;\n",
              "      border: none;\n",
              "      border-radius: 50%;\n",
              "      cursor: pointer;\n",
              "      display: none;\n",
              "      fill: #1967D2;\n",
              "      height: 32px;\n",
              "      padding: 0 0 0 0;\n",
              "      width: 32px;\n",
              "    }\n",
              "\n",
              "    .colab-df-convert:hover {\n",
              "      background-color: #E2EBFA;\n",
              "      box-shadow: 0px 1px 2px rgba(60, 64, 67, 0.3), 0px 1px 3px 1px rgba(60, 64, 67, 0.15);\n",
              "      fill: #174EA6;\n",
              "    }\n",
              "\n",
              "    [theme=dark] .colab-df-convert {\n",
              "      background-color: #3B4455;\n",
              "      fill: #D2E3FC;\n",
              "    }\n",
              "\n",
              "    [theme=dark] .colab-df-convert:hover {\n",
              "      background-color: #434B5C;\n",
              "      box-shadow: 0px 1px 3px 1px rgba(0, 0, 0, 0.15);\n",
              "      filter: drop-shadow(0px 1px 2px rgba(0, 0, 0, 0.3));\n",
              "      fill: #FFFFFF;\n",
              "    }\n",
              "  </style>\n",
              "\n",
              "      <script>\n",
              "        const buttonEl =\n",
              "          document.querySelector('#df-2e050dae-4d87-44e7-a6df-e18865d90d72 button.colab-df-convert');\n",
              "        buttonEl.style.display =\n",
              "          google.colab.kernel.accessAllowed ? 'block' : 'none';\n",
              "\n",
              "        async function convertToInteractive(key) {\n",
              "          const element = document.querySelector('#df-2e050dae-4d87-44e7-a6df-e18865d90d72');\n",
              "          const dataTable =\n",
              "            await google.colab.kernel.invokeFunction('convertToInteractive',\n",
              "                                                     [key], {});\n",
              "          if (!dataTable) return;\n",
              "\n",
              "          const docLinkHtml = 'Like what you see? Visit the ' +\n",
              "            '<a target=\"_blank\" href=https://colab.research.google.com/notebooks/data_table.ipynb>data table notebook</a>'\n",
              "            + ' to learn more about interactive tables.';\n",
              "          element.innerHTML = '';\n",
              "          dataTable['output_type'] = 'display_data';\n",
              "          await google.colab.output.renderOutput(dataTable, element);\n",
              "          const docLink = document.createElement('div');\n",
              "          docLink.innerHTML = docLinkHtml;\n",
              "          element.appendChild(docLink);\n",
              "        }\n",
              "      </script>\n",
              "    </div>\n",
              "  </div>\n",
              "  "
            ]
          },
          "metadata": {},
          "execution_count": 12
        }
      ],
      "source": [
        "# Merubah nilai baths menjadi int\n",
        "df['baths'] = np.ceil(df['baths'])\n",
        "df['baths'] = df['baths'].astype(np.int)\n",
        "df.head()"
      ]
    },
    {
      "cell_type": "markdown",
      "metadata": {
        "id": "0nDexxgwmp48"
      },
      "source": [
        "## Univariate Analysis\n"
      ]
    },
    {
      "cell_type": "code",
      "execution_count": 13,
      "metadata": {
        "id": "T8YapvAgmohO",
        "colab": {
          "base_uri": "https://localhost:8080/"
        },
        "outputId": "85066090-c4b2-47ef-cef3-11449b7acd0f"
      },
      "outputs": [
        {
          "output_type": "execute_result",
          "data": {
            "text/plain": [
              "type\n",
              "apartment          218032\n",
              "assisted living         1\n",
              "condo                4864\n",
              "cottage/cabin         702\n",
              "duplex               3452\n",
              "flat                  349\n",
              "house               23741\n",
              "in-law                145\n",
              "land                    4\n",
              "loft                  511\n",
              "manufactured         3008\n",
              "townhouse           10381\n",
              "Name: type, dtype: int64"
            ]
          },
          "metadata": {},
          "execution_count": 13
        }
      ],
      "source": [
        "df.groupby('type')['type'].agg('count')"
      ]
    },
    {
      "cell_type": "code",
      "execution_count": 14,
      "metadata": {
        "id": "FqlhlXCunFGW",
        "colab": {
          "base_uri": "https://localhost:8080/"
        },
        "outputId": "ee4dd819-8dd9-402f-ff01-7d03d0cdd412"
      },
      "outputs": [
        {
          "output_type": "execute_result",
          "data": {
            "text/plain": [
              "type\n",
              "apartment        218032\n",
              "condo              4864\n",
              "cottage/cabin       702\n",
              "duplex             3452\n",
              "flat                349\n",
              "house             23741\n",
              "in-law              145\n",
              "loft                511\n",
              "manufactured       3008\n",
              "townhouse         10381\n",
              "Name: type, dtype: int64"
            ]
          },
          "metadata": {},
          "execution_count": 14
        }
      ],
      "source": [
        "# Column type terdapat 1 sample assisted living dan 4 sample land sehingga sample tersebut akan dihapus\n",
        "df.drop(df.index[df['type'] == 'assisted living'], inplace = True)\n",
        "df.drop(df.index[df['type'] == 'land'], inplace = True)\n",
        "\n",
        "df.groupby('type')['type'].agg('count')"
      ]
    },
    {
      "cell_type": "code",
      "execution_count": 15,
      "metadata": {
        "id": "T2nG6F-xoErr",
        "colab": {
          "base_uri": "https://localhost:8080/"
        },
        "outputId": "010c7216-a476-4c44-829d-b56e61daa83e"
      },
      "outputs": [
        {
          "output_type": "execute_result",
          "data": {
            "text/plain": [
              "laundry_options\n",
              "laundry in bldg       27816\n",
              "laundry on site       39183\n",
              "no laundry on site     2551\n",
              "w/d hookups           50251\n",
              "w/d in unit           91073\n",
              "Name: laundry_options, dtype: int64"
            ]
          },
          "metadata": {},
          "execution_count": 15
        }
      ],
      "source": [
        "df.groupby('laundry_options')['laundry_options'].agg('count')"
      ]
    },
    {
      "cell_type": "code",
      "execution_count": 16,
      "metadata": {
        "id": "m3hVx5osoPwB",
        "colab": {
          "base_uri": "https://localhost:8080/"
        },
        "outputId": "dc12a85c-624d-4062-8f1c-adcd39813b42"
      },
      "outputs": [
        {
          "output_type": "execute_result",
          "data": {
            "text/plain": [
              "parking_options\n",
              "attached garage       27591\n",
              "carport               28685\n",
              "detached garage       12798\n",
              "no parking             1973\n",
              "off-street parking    88311\n",
              "street parking        10570\n",
              "valet parking           122\n",
              "Name: parking_options, dtype: int64"
            ]
          },
          "metadata": {},
          "execution_count": 16
        }
      ],
      "source": [
        "df.groupby('parking_options')['parking_options'].agg('count')"
      ]
    },
    {
      "cell_type": "code",
      "execution_count": 17,
      "metadata": {
        "id": "btK1fi9XhrOY",
        "colab": {
          "base_uri": "https://localhost:8080/"
        },
        "outputId": "0eda8776-8681-4f7b-d43f-6bb1ec2d78a2"
      },
      "outputs": [
        {
          "output_type": "execute_result",
          "data": {
            "text/plain": [
              "region\n",
              "SF bay area               2327\n",
              "akron / canton            1532\n",
              "albany                    2090\n",
              "albuquerque               2144\n",
              "ames                       360\n",
              "                          ... \n",
              "winston-salem             2123\n",
              "worcester / central MA    1452\n",
              "yuba-sutter                152\n",
              "yuma                       215\n",
              "zanesville / cambridge       3\n",
              "Name: region, Length: 298, dtype: int64"
            ]
          },
          "metadata": {},
          "execution_count": 17
        }
      ],
      "source": [
        "df.groupby('region')['region'].agg('count')"
      ]
    },
    {
      "cell_type": "code",
      "execution_count": 18,
      "metadata": {
        "id": "VoPNNysyh2rt",
        "colab": {
          "base_uri": "https://localhost:8080/",
          "height": 270
        },
        "outputId": "90392926-6902-443b-cdc6-0300552871fd"
      },
      "outputs": [
        {
          "output_type": "execute_result",
          "data": {
            "text/plain": [
              "   price       type  sqfeet  beds  baths  cats_allowed  dogs_allowed  \\\n",
              "0   1195  apartment    1908     3      2             1             1   \n",
              "1   1120  apartment    1319     3      2             1             1   \n",
              "2    825  apartment    1133     1      2             1             1   \n",
              "3    800  apartment     927     1      1             1             1   \n",
              "4    785  apartment    1047     2      1             1             1   \n",
              "\n",
              "   smoking_allowed  wheelchair_access  electric_vehicle_charge  \\\n",
              "0                1                  0                        0   \n",
              "1                1                  0                        0   \n",
              "2                1                  0                        0   \n",
              "3                1                  0                        0   \n",
              "4                1                  0                        0   \n",
              "\n",
              "   comes_furnished  laundry_options     parking_options state  \n",
              "0                0  laundry on site      street parking    al  \n",
              "1                0  laundry on site  off-street parking    al  \n",
              "2                0  laundry on site      street parking    al  \n",
              "3                0  laundry on site      street parking    al  \n",
              "4                0  laundry on site      street parking    al  "
            ],
            "text/html": [
              "\n",
              "  <div id=\"df-a1f9e97b-22a2-4f8b-a950-ab5ef5613004\">\n",
              "    <div class=\"colab-df-container\">\n",
              "      <div>\n",
              "<style scoped>\n",
              "    .dataframe tbody tr th:only-of-type {\n",
              "        vertical-align: middle;\n",
              "    }\n",
              "\n",
              "    .dataframe tbody tr th {\n",
              "        vertical-align: top;\n",
              "    }\n",
              "\n",
              "    .dataframe thead th {\n",
              "        text-align: right;\n",
              "    }\n",
              "</style>\n",
              "<table border=\"1\" class=\"dataframe\">\n",
              "  <thead>\n",
              "    <tr style=\"text-align: right;\">\n",
              "      <th></th>\n",
              "      <th>price</th>\n",
              "      <th>type</th>\n",
              "      <th>sqfeet</th>\n",
              "      <th>beds</th>\n",
              "      <th>baths</th>\n",
              "      <th>cats_allowed</th>\n",
              "      <th>dogs_allowed</th>\n",
              "      <th>smoking_allowed</th>\n",
              "      <th>wheelchair_access</th>\n",
              "      <th>electric_vehicle_charge</th>\n",
              "      <th>comes_furnished</th>\n",
              "      <th>laundry_options</th>\n",
              "      <th>parking_options</th>\n",
              "      <th>state</th>\n",
              "    </tr>\n",
              "  </thead>\n",
              "  <tbody>\n",
              "    <tr>\n",
              "      <th>0</th>\n",
              "      <td>1195</td>\n",
              "      <td>apartment</td>\n",
              "      <td>1908</td>\n",
              "      <td>3</td>\n",
              "      <td>2</td>\n",
              "      <td>1</td>\n",
              "      <td>1</td>\n",
              "      <td>1</td>\n",
              "      <td>0</td>\n",
              "      <td>0</td>\n",
              "      <td>0</td>\n",
              "      <td>laundry on site</td>\n",
              "      <td>street parking</td>\n",
              "      <td>al</td>\n",
              "    </tr>\n",
              "    <tr>\n",
              "      <th>1</th>\n",
              "      <td>1120</td>\n",
              "      <td>apartment</td>\n",
              "      <td>1319</td>\n",
              "      <td>3</td>\n",
              "      <td>2</td>\n",
              "      <td>1</td>\n",
              "      <td>1</td>\n",
              "      <td>1</td>\n",
              "      <td>0</td>\n",
              "      <td>0</td>\n",
              "      <td>0</td>\n",
              "      <td>laundry on site</td>\n",
              "      <td>off-street parking</td>\n",
              "      <td>al</td>\n",
              "    </tr>\n",
              "    <tr>\n",
              "      <th>2</th>\n",
              "      <td>825</td>\n",
              "      <td>apartment</td>\n",
              "      <td>1133</td>\n",
              "      <td>1</td>\n",
              "      <td>2</td>\n",
              "      <td>1</td>\n",
              "      <td>1</td>\n",
              "      <td>1</td>\n",
              "      <td>0</td>\n",
              "      <td>0</td>\n",
              "      <td>0</td>\n",
              "      <td>laundry on site</td>\n",
              "      <td>street parking</td>\n",
              "      <td>al</td>\n",
              "    </tr>\n",
              "    <tr>\n",
              "      <th>3</th>\n",
              "      <td>800</td>\n",
              "      <td>apartment</td>\n",
              "      <td>927</td>\n",
              "      <td>1</td>\n",
              "      <td>1</td>\n",
              "      <td>1</td>\n",
              "      <td>1</td>\n",
              "      <td>1</td>\n",
              "      <td>0</td>\n",
              "      <td>0</td>\n",
              "      <td>0</td>\n",
              "      <td>laundry on site</td>\n",
              "      <td>street parking</td>\n",
              "      <td>al</td>\n",
              "    </tr>\n",
              "    <tr>\n",
              "      <th>4</th>\n",
              "      <td>785</td>\n",
              "      <td>apartment</td>\n",
              "      <td>1047</td>\n",
              "      <td>2</td>\n",
              "      <td>1</td>\n",
              "      <td>1</td>\n",
              "      <td>1</td>\n",
              "      <td>1</td>\n",
              "      <td>0</td>\n",
              "      <td>0</td>\n",
              "      <td>0</td>\n",
              "      <td>laundry on site</td>\n",
              "      <td>street parking</td>\n",
              "      <td>al</td>\n",
              "    </tr>\n",
              "  </tbody>\n",
              "</table>\n",
              "</div>\n",
              "      <button class=\"colab-df-convert\" onclick=\"convertToInteractive('df-a1f9e97b-22a2-4f8b-a950-ab5ef5613004')\"\n",
              "              title=\"Convert this dataframe to an interactive table.\"\n",
              "              style=\"display:none;\">\n",
              "        \n",
              "  <svg xmlns=\"http://www.w3.org/2000/svg\" height=\"24px\"viewBox=\"0 0 24 24\"\n",
              "       width=\"24px\">\n",
              "    <path d=\"M0 0h24v24H0V0z\" fill=\"none\"/>\n",
              "    <path d=\"M18.56 5.44l.94 2.06.94-2.06 2.06-.94-2.06-.94-.94-2.06-.94 2.06-2.06.94zm-11 1L8.5 8.5l.94-2.06 2.06-.94-2.06-.94L8.5 2.5l-.94 2.06-2.06.94zm10 10l.94 2.06.94-2.06 2.06-.94-2.06-.94-.94-2.06-.94 2.06-2.06.94z\"/><path d=\"M17.41 7.96l-1.37-1.37c-.4-.4-.92-.59-1.43-.59-.52 0-1.04.2-1.43.59L10.3 9.45l-7.72 7.72c-.78.78-.78 2.05 0 2.83L4 21.41c.39.39.9.59 1.41.59.51 0 1.02-.2 1.41-.59l7.78-7.78 2.81-2.81c.8-.78.8-2.07 0-2.86zM5.41 20L4 18.59l7.72-7.72 1.47 1.35L5.41 20z\"/>\n",
              "  </svg>\n",
              "      </button>\n",
              "      \n",
              "  <style>\n",
              "    .colab-df-container {\n",
              "      display:flex;\n",
              "      flex-wrap:wrap;\n",
              "      gap: 12px;\n",
              "    }\n",
              "\n",
              "    .colab-df-convert {\n",
              "      background-color: #E8F0FE;\n",
              "      border: none;\n",
              "      border-radius: 50%;\n",
              "      cursor: pointer;\n",
              "      display: none;\n",
              "      fill: #1967D2;\n",
              "      height: 32px;\n",
              "      padding: 0 0 0 0;\n",
              "      width: 32px;\n",
              "    }\n",
              "\n",
              "    .colab-df-convert:hover {\n",
              "      background-color: #E2EBFA;\n",
              "      box-shadow: 0px 1px 2px rgba(60, 64, 67, 0.3), 0px 1px 3px 1px rgba(60, 64, 67, 0.15);\n",
              "      fill: #174EA6;\n",
              "    }\n",
              "\n",
              "    [theme=dark] .colab-df-convert {\n",
              "      background-color: #3B4455;\n",
              "      fill: #D2E3FC;\n",
              "    }\n",
              "\n",
              "    [theme=dark] .colab-df-convert:hover {\n",
              "      background-color: #434B5C;\n",
              "      box-shadow: 0px 1px 3px 1px rgba(0, 0, 0, 0.15);\n",
              "      filter: drop-shadow(0px 1px 2px rgba(0, 0, 0, 0.3));\n",
              "      fill: #FFFFFF;\n",
              "    }\n",
              "  </style>\n",
              "\n",
              "      <script>\n",
              "        const buttonEl =\n",
              "          document.querySelector('#df-a1f9e97b-22a2-4f8b-a950-ab5ef5613004 button.colab-df-convert');\n",
              "        buttonEl.style.display =\n",
              "          google.colab.kernel.accessAllowed ? 'block' : 'none';\n",
              "\n",
              "        async function convertToInteractive(key) {\n",
              "          const element = document.querySelector('#df-a1f9e97b-22a2-4f8b-a950-ab5ef5613004');\n",
              "          const dataTable =\n",
              "            await google.colab.kernel.invokeFunction('convertToInteractive',\n",
              "                                                     [key], {});\n",
              "          if (!dataTable) return;\n",
              "\n",
              "          const docLinkHtml = 'Like what you see? Visit the ' +\n",
              "            '<a target=\"_blank\" href=https://colab.research.google.com/notebooks/data_table.ipynb>data table notebook</a>'\n",
              "            + ' to learn more about interactive tables.';\n",
              "          element.innerHTML = '';\n",
              "          dataTable['output_type'] = 'display_data';\n",
              "          await google.colab.output.renderOutput(dataTable, element);\n",
              "          const docLink = document.createElement('div');\n",
              "          docLink.innerHTML = docLinkHtml;\n",
              "          element.appendChild(docLink);\n",
              "        }\n",
              "      </script>\n",
              "    </div>\n",
              "  </div>\n",
              "  "
            ]
          },
          "metadata": {},
          "execution_count": 18
        }
      ],
      "source": [
        "# Column region terlalu banyak memiliki kategori, maka column tersebut akan dihapus\n",
        "df  = df.drop(['region'], axis = 'columns')\n",
        "df.head()"
      ]
    },
    {
      "cell_type": "code",
      "execution_count": 19,
      "metadata": {
        "id": "CG5qcKnwiaic",
        "colab": {
          "base_uri": "https://localhost:8080/"
        },
        "outputId": "4c674d99-7135-4982-b6d5-dda8cb2fe03b"
      },
      "outputs": [
        {
          "output_type": "execute_result",
          "data": {
            "text/plain": [
              "state\n",
              "ak     2169\n",
              "al     6198\n",
              "ar     3148\n",
              "az     6752\n",
              "ca    33085\n",
              "co    11308\n",
              "ct     3765\n",
              "dc     2502\n",
              "de     2048\n",
              "fl    31926\n",
              "ga    13841\n",
              "hi     1840\n",
              "ia     7488\n",
              "id     4466\n",
              "il     9706\n",
              "in     6416\n",
              "ks     7910\n",
              "ky     5419\n",
              "la     7304\n",
              "ma     4926\n",
              "md     7451\n",
              "me      420\n",
              "mi    14529\n",
              "mn     7468\n",
              "mo     2158\n",
              "ms     4973\n",
              "mt     1339\n",
              "nc    18628\n",
              "nd     3428\n",
              "ne     2697\n",
              "nh     1761\n",
              "nj     5711\n",
              "nm     2916\n",
              "nv     2846\n",
              "ny     9991\n",
              "oh     6558\n",
              "ok       49\n",
              "or       44\n",
              "Name: state, dtype: int64"
            ]
          },
          "metadata": {},
          "execution_count": 19
        }
      ],
      "source": [
        "df.groupby('state')['state'].agg('count')"
      ]
    },
    {
      "cell_type": "code",
      "execution_count": 20,
      "metadata": {
        "id": "kFTteYZIi7Tw",
        "colab": {
          "base_uri": "https://localhost:8080/",
          "height": 270
        },
        "outputId": "1817c06b-e436-4871-82e1-dbc28b8bd018"
      },
      "outputs": [
        {
          "output_type": "execute_result",
          "data": {
            "text/plain": [
              "   price       type  sqfeet  beds  baths  cats_allowed  dogs_allowed  \\\n",
              "0   1195  apartment    1908     3      2             1             1   \n",
              "1   1120  apartment    1319     3      2             1             1   \n",
              "2    825  apartment    1133     1      2             1             1   \n",
              "3    800  apartment     927     1      1             1             1   \n",
              "4    785  apartment    1047     2      1             1             1   \n",
              "\n",
              "   smoking_allowed  wheelchair_access  electric_vehicle_charge  \\\n",
              "0                1                  0                        0   \n",
              "1                1                  0                        0   \n",
              "2                1                  0                        0   \n",
              "3                1                  0                        0   \n",
              "4                1                  0                        0   \n",
              "\n",
              "   comes_furnished  laundry_options     parking_options state  \n",
              "0                0  laundry on site      street parking    al  \n",
              "1                0  laundry on site  off-street parking    al  \n",
              "2                0  laundry on site      street parking    al  \n",
              "3                0  laundry on site      street parking    al  \n",
              "4                0  laundry on site      street parking    al  "
            ],
            "text/html": [
              "\n",
              "  <div id=\"df-220a4d00-b354-49e4-adad-b1149c0d056b\">\n",
              "    <div class=\"colab-df-container\">\n",
              "      <div>\n",
              "<style scoped>\n",
              "    .dataframe tbody tr th:only-of-type {\n",
              "        vertical-align: middle;\n",
              "    }\n",
              "\n",
              "    .dataframe tbody tr th {\n",
              "        vertical-align: top;\n",
              "    }\n",
              "\n",
              "    .dataframe thead th {\n",
              "        text-align: right;\n",
              "    }\n",
              "</style>\n",
              "<table border=\"1\" class=\"dataframe\">\n",
              "  <thead>\n",
              "    <tr style=\"text-align: right;\">\n",
              "      <th></th>\n",
              "      <th>price</th>\n",
              "      <th>type</th>\n",
              "      <th>sqfeet</th>\n",
              "      <th>beds</th>\n",
              "      <th>baths</th>\n",
              "      <th>cats_allowed</th>\n",
              "      <th>dogs_allowed</th>\n",
              "      <th>smoking_allowed</th>\n",
              "      <th>wheelchair_access</th>\n",
              "      <th>electric_vehicle_charge</th>\n",
              "      <th>comes_furnished</th>\n",
              "      <th>laundry_options</th>\n",
              "      <th>parking_options</th>\n",
              "      <th>state</th>\n",
              "    </tr>\n",
              "  </thead>\n",
              "  <tbody>\n",
              "    <tr>\n",
              "      <th>0</th>\n",
              "      <td>1195</td>\n",
              "      <td>apartment</td>\n",
              "      <td>1908</td>\n",
              "      <td>3</td>\n",
              "      <td>2</td>\n",
              "      <td>1</td>\n",
              "      <td>1</td>\n",
              "      <td>1</td>\n",
              "      <td>0</td>\n",
              "      <td>0</td>\n",
              "      <td>0</td>\n",
              "      <td>laundry on site</td>\n",
              "      <td>street parking</td>\n",
              "      <td>al</td>\n",
              "    </tr>\n",
              "    <tr>\n",
              "      <th>1</th>\n",
              "      <td>1120</td>\n",
              "      <td>apartment</td>\n",
              "      <td>1319</td>\n",
              "      <td>3</td>\n",
              "      <td>2</td>\n",
              "      <td>1</td>\n",
              "      <td>1</td>\n",
              "      <td>1</td>\n",
              "      <td>0</td>\n",
              "      <td>0</td>\n",
              "      <td>0</td>\n",
              "      <td>laundry on site</td>\n",
              "      <td>off-street parking</td>\n",
              "      <td>al</td>\n",
              "    </tr>\n",
              "    <tr>\n",
              "      <th>2</th>\n",
              "      <td>825</td>\n",
              "      <td>apartment</td>\n",
              "      <td>1133</td>\n",
              "      <td>1</td>\n",
              "      <td>2</td>\n",
              "      <td>1</td>\n",
              "      <td>1</td>\n",
              "      <td>1</td>\n",
              "      <td>0</td>\n",
              "      <td>0</td>\n",
              "      <td>0</td>\n",
              "      <td>laundry on site</td>\n",
              "      <td>street parking</td>\n",
              "      <td>al</td>\n",
              "    </tr>\n",
              "    <tr>\n",
              "      <th>3</th>\n",
              "      <td>800</td>\n",
              "      <td>apartment</td>\n",
              "      <td>927</td>\n",
              "      <td>1</td>\n",
              "      <td>1</td>\n",
              "      <td>1</td>\n",
              "      <td>1</td>\n",
              "      <td>1</td>\n",
              "      <td>0</td>\n",
              "      <td>0</td>\n",
              "      <td>0</td>\n",
              "      <td>laundry on site</td>\n",
              "      <td>street parking</td>\n",
              "      <td>al</td>\n",
              "    </tr>\n",
              "    <tr>\n",
              "      <th>4</th>\n",
              "      <td>785</td>\n",
              "      <td>apartment</td>\n",
              "      <td>1047</td>\n",
              "      <td>2</td>\n",
              "      <td>1</td>\n",
              "      <td>1</td>\n",
              "      <td>1</td>\n",
              "      <td>1</td>\n",
              "      <td>0</td>\n",
              "      <td>0</td>\n",
              "      <td>0</td>\n",
              "      <td>laundry on site</td>\n",
              "      <td>street parking</td>\n",
              "      <td>al</td>\n",
              "    </tr>\n",
              "  </tbody>\n",
              "</table>\n",
              "</div>\n",
              "      <button class=\"colab-df-convert\" onclick=\"convertToInteractive('df-220a4d00-b354-49e4-adad-b1149c0d056b')\"\n",
              "              title=\"Convert this dataframe to an interactive table.\"\n",
              "              style=\"display:none;\">\n",
              "        \n",
              "  <svg xmlns=\"http://www.w3.org/2000/svg\" height=\"24px\"viewBox=\"0 0 24 24\"\n",
              "       width=\"24px\">\n",
              "    <path d=\"M0 0h24v24H0V0z\" fill=\"none\"/>\n",
              "    <path d=\"M18.56 5.44l.94 2.06.94-2.06 2.06-.94-2.06-.94-.94-2.06-.94 2.06-2.06.94zm-11 1L8.5 8.5l.94-2.06 2.06-.94-2.06-.94L8.5 2.5l-.94 2.06-2.06.94zm10 10l.94 2.06.94-2.06 2.06-.94-2.06-.94-.94-2.06-.94 2.06-2.06.94z\"/><path d=\"M17.41 7.96l-1.37-1.37c-.4-.4-.92-.59-1.43-.59-.52 0-1.04.2-1.43.59L10.3 9.45l-7.72 7.72c-.78.78-.78 2.05 0 2.83L4 21.41c.39.39.9.59 1.41.59.51 0 1.02-.2 1.41-.59l7.78-7.78 2.81-2.81c.8-.78.8-2.07 0-2.86zM5.41 20L4 18.59l7.72-7.72 1.47 1.35L5.41 20z\"/>\n",
              "  </svg>\n",
              "      </button>\n",
              "      \n",
              "  <style>\n",
              "    .colab-df-container {\n",
              "      display:flex;\n",
              "      flex-wrap:wrap;\n",
              "      gap: 12px;\n",
              "    }\n",
              "\n",
              "    .colab-df-convert {\n",
              "      background-color: #E8F0FE;\n",
              "      border: none;\n",
              "      border-radius: 50%;\n",
              "      cursor: pointer;\n",
              "      display: none;\n",
              "      fill: #1967D2;\n",
              "      height: 32px;\n",
              "      padding: 0 0 0 0;\n",
              "      width: 32px;\n",
              "    }\n",
              "\n",
              "    .colab-df-convert:hover {\n",
              "      background-color: #E2EBFA;\n",
              "      box-shadow: 0px 1px 2px rgba(60, 64, 67, 0.3), 0px 1px 3px 1px rgba(60, 64, 67, 0.15);\n",
              "      fill: #174EA6;\n",
              "    }\n",
              "\n",
              "    [theme=dark] .colab-df-convert {\n",
              "      background-color: #3B4455;\n",
              "      fill: #D2E3FC;\n",
              "    }\n",
              "\n",
              "    [theme=dark] .colab-df-convert:hover {\n",
              "      background-color: #434B5C;\n",
              "      box-shadow: 0px 1px 3px 1px rgba(0, 0, 0, 0.15);\n",
              "      filter: drop-shadow(0px 1px 2px rgba(0, 0, 0, 0.3));\n",
              "      fill: #FFFFFF;\n",
              "    }\n",
              "  </style>\n",
              "\n",
              "      <script>\n",
              "        const buttonEl =\n",
              "          document.querySelector('#df-220a4d00-b354-49e4-adad-b1149c0d056b button.colab-df-convert');\n",
              "        buttonEl.style.display =\n",
              "          google.colab.kernel.accessAllowed ? 'block' : 'none';\n",
              "\n",
              "        async function convertToInteractive(key) {\n",
              "          const element = document.querySelector('#df-220a4d00-b354-49e4-adad-b1149c0d056b');\n",
              "          const dataTable =\n",
              "            await google.colab.kernel.invokeFunction('convertToInteractive',\n",
              "                                                     [key], {});\n",
              "          if (!dataTable) return;\n",
              "\n",
              "          const docLinkHtml = 'Like what you see? Visit the ' +\n",
              "            '<a target=\"_blank\" href=https://colab.research.google.com/notebooks/data_table.ipynb>data table notebook</a>'\n",
              "            + ' to learn more about interactive tables.';\n",
              "          element.innerHTML = '';\n",
              "          dataTable['output_type'] = 'display_data';\n",
              "          await google.colab.output.renderOutput(dataTable, element);\n",
              "          const docLink = document.createElement('div');\n",
              "          docLink.innerHTML = docLinkHtml;\n",
              "          element.appendChild(docLink);\n",
              "        }\n",
              "      </script>\n",
              "    </div>\n",
              "  </div>\n",
              "  "
            ]
          },
          "metadata": {},
          "execution_count": 20
        }
      ],
      "source": [
        "# Column region terdapat 49 ok dan 44 or yang terlalu sedikit, maka sample tersebut akan dihapus\n",
        "df.drop(df.index[df['state'] == '49'], inplace = True)\n",
        "df.drop(df.index[df['state'] == '44'], inplace = True)\n",
        "\n",
        "df.head()"
      ]
    },
    {
      "cell_type": "code",
      "execution_count": 21,
      "metadata": {
        "id": "0Ifr2LbCqRxZ",
        "colab": {
          "base_uri": "https://localhost:8080/"
        },
        "outputId": "c813e51b-6557-4cb4-cd7d-e22a9ff6127a"
      },
      "outputs": [
        {
          "output_type": "execute_result",
          "data": {
            "text/plain": [
              "wheelchair_access\n",
              "0    244299\n",
              "1     20886\n",
              "Name: wheelchair_access, dtype: int64"
            ]
          },
          "metadata": {},
          "execution_count": 21
        }
      ],
      "source": [
        "df.groupby('wheelchair_access')['wheelchair_access'].agg('count')"
      ]
    },
    {
      "cell_type": "code",
      "execution_count": 22,
      "metadata": {
        "id": "bBA9WkpeqaK3",
        "colab": {
          "base_uri": "https://localhost:8080/"
        },
        "outputId": "e67f795d-9461-4854-e7fc-ff670b9984f6"
      },
      "outputs": [
        {
          "output_type": "execute_result",
          "data": {
            "text/plain": [
              "electric_vehicle_charge\n",
              "0    261378\n",
              "1      3807\n",
              "Name: electric_vehicle_charge, dtype: int64"
            ]
          },
          "metadata": {},
          "execution_count": 22
        }
      ],
      "source": [
        "df.groupby('electric_vehicle_charge')['electric_vehicle_charge'].agg('count')"
      ]
    },
    {
      "cell_type": "code",
      "execution_count": 23,
      "metadata": {
        "id": "vhf5QYALqfLP",
        "colab": {
          "base_uri": "https://localhost:8080/"
        },
        "outputId": "ef866a16-33ff-4a79-a2a4-21273cd9152f"
      },
      "outputs": [
        {
          "output_type": "execute_result",
          "data": {
            "text/plain": [
              "comes_furnished\n",
              "0    252285\n",
              "1     12900\n",
              "Name: comes_furnished, dtype: int64"
            ]
          },
          "metadata": {},
          "execution_count": 23
        }
      ],
      "source": [
        "df.groupby('comes_furnished')['comes_furnished'].agg('count')"
      ]
    },
    {
      "cell_type": "code",
      "execution_count": 24,
      "metadata": {
        "id": "IO16Cccfqq2f",
        "colab": {
          "base_uri": "https://localhost:8080/"
        },
        "outputId": "3a8b3bb3-4b60-4018-bd7c-8a1dc8f83c1c"
      },
      "outputs": [
        {
          "output_type": "execute_result",
          "data": {
            "text/plain": [
              "cats_allowed\n",
              "0     75094\n",
              "1    190091\n",
              "Name: cats_allowed, dtype: int64"
            ]
          },
          "metadata": {},
          "execution_count": 24
        }
      ],
      "source": [
        "df.groupby('cats_allowed')['cats_allowed'].agg('count')"
      ]
    },
    {
      "cell_type": "code",
      "execution_count": 25,
      "metadata": {
        "id": "YY5_47-zquPD",
        "colab": {
          "base_uri": "https://localhost:8080/"
        },
        "outputId": "9f471212-9c82-4339-f37a-3f2346b76520"
      },
      "outputs": [
        {
          "output_type": "execute_result",
          "data": {
            "text/plain": [
              "dogs_allowed\n",
              "0     80470\n",
              "1    184715\n",
              "Name: dogs_allowed, dtype: int64"
            ]
          },
          "metadata": {},
          "execution_count": 25
        }
      ],
      "source": [
        "df.groupby('dogs_allowed')['dogs_allowed'].agg('count')"
      ]
    },
    {
      "cell_type": "code",
      "execution_count": 26,
      "metadata": {
        "id": "L-7kfyXmsmU-",
        "colab": {
          "base_uri": "https://localhost:8080/"
        },
        "outputId": "78faff91-b0d2-463f-ecf1-d497a6d3082a"
      },
      "outputs": [
        {
          "output_type": "execute_result",
          "data": {
            "text/plain": [
              "sqfeet\n",
              "0          42\n",
              "1          42\n",
              "2          26\n",
              "5           4\n",
              "6           1\n",
              "           ..\n",
              "775814      1\n",
              "999999      4\n",
              "1019856     2\n",
              "8000000     1\n",
              "8388607     1\n",
              "Name: sqfeet, Length: 3037, dtype: int64"
            ]
          },
          "metadata": {},
          "execution_count": 26
        }
      ],
      "source": [
        "df.groupby('sqfeet')['sqfeet'].agg('count')"
      ]
    },
    {
      "cell_type": "code",
      "execution_count": 27,
      "metadata": {
        "id": "UBp_6u8-s8Tu",
        "colab": {
          "base_uri": "https://localhost:8080/"
        },
        "outputId": "7d076caa-ab75-4bbf-9b8f-c4d6482f0864"
      },
      "outputs": [
        {
          "output_type": "execute_result",
          "data": {
            "text/plain": [
              "(265143, 14)"
            ]
          },
          "metadata": {},
          "execution_count": 27
        }
      ],
      "source": [
        "df = df.loc[(df[['sqfeet']]!=0).all(axis=1)]\n",
        "df.shape"
      ]
    },
    {
      "cell_type": "code",
      "execution_count": 28,
      "metadata": {
        "id": "-dftsGfxtHI8",
        "colab": {
          "base_uri": "https://localhost:8080/"
        },
        "outputId": "a92f354e-b768-484c-d1ac-32326ef049dc"
      },
      "outputs": [
        {
          "output_type": "execute_result",
          "data": {
            "text/plain": [
              "beds\n",
              "0         7526\n",
              "1        80519\n",
              "2       120132\n",
              "3        46957\n",
              "4         8171\n",
              "5         1589\n",
              "6          185\n",
              "7           40\n",
              "8           22\n",
              "1100         2\n",
              "Name: beds, dtype: int64"
            ]
          },
          "metadata": {},
          "execution_count": 28
        }
      ],
      "source": [
        "df.groupby('beds')['beds'].agg('count')"
      ]
    },
    {
      "cell_type": "code",
      "execution_count": 29,
      "metadata": {
        "id": "hJfClpXmtjub",
        "colab": {
          "base_uri": "https://localhost:8080/"
        },
        "outputId": "75cca673-1b13-494d-808a-6b806fb84994"
      },
      "outputs": [
        {
          "output_type": "stream",
          "name": "stdout",
          "text": [
            "Nilai 0 di kolom bed ada:  7526\n",
            "Nilai besar dari 8 di kolom bed ada:  2\n"
          ]
        }
      ],
      "source": [
        "beds = (df.beds == 0).sum()\n",
        "print(\"Nilai 0 di kolom bed ada: \", beds)\n",
        "\n",
        "beds = (df.beds > 8).sum()\n",
        "print(\"Nilai besar dari 8 di kolom bed ada: \", beds)"
      ]
    },
    {
      "cell_type": "code",
      "execution_count": 30,
      "metadata": {
        "id": "ELPvEXVitxu2",
        "colab": {
          "base_uri": "https://localhost:8080/"
        },
        "outputId": "9cdd255c-c5bf-4a65-db7b-90ab6ee00edf"
      },
      "outputs": [
        {
          "output_type": "execute_result",
          "data": {
            "text/plain": [
              "(257617, 14)"
            ]
          },
          "metadata": {},
          "execution_count": 30
        }
      ],
      "source": [
        "df = df.loc[(df[['beds']]!=0).all(axis=1)]\n",
        "df.shape"
      ]
    },
    {
      "cell_type": "code",
      "execution_count": 31,
      "metadata": {
        "id": "aTGhyZJfuSA5",
        "colab": {
          "base_uri": "https://localhost:8080/"
        },
        "outputId": "48945079-f202-4597-a3e5-a3df7f72d28c"
      },
      "outputs": [
        {
          "output_type": "execute_result",
          "data": {
            "text/plain": [
              "(257615, 14)"
            ]
          },
          "metadata": {},
          "execution_count": 31
        }
      ],
      "source": [
        "df = df.loc[(df[['beds']]<=8).all(axis=1)]\n",
        "df.shape"
      ]
    },
    {
      "cell_type": "code",
      "execution_count": 32,
      "metadata": {
        "id": "F2EXzTqvpLDV",
        "colab": {
          "base_uri": "https://localhost:8080/"
        },
        "outputId": "f8e596cb-4a08-426f-e092-151e05d62bd0"
      },
      "outputs": [
        {
          "output_type": "execute_result",
          "data": {
            "text/plain": [
              "baths\n",
              "0      2045\n",
              "1    128930\n",
              "2    112133\n",
              "3     12421\n",
              "4      1782\n",
              "5       249\n",
              "6        44\n",
              "7         8\n",
              "8         2\n",
              "9         1\n",
              "Name: baths, dtype: int64"
            ]
          },
          "metadata": {},
          "execution_count": 32
        }
      ],
      "source": [
        "df.groupby('baths')['baths'].agg('count')"
      ]
    },
    {
      "cell_type": "code",
      "execution_count": 33,
      "metadata": {
        "id": "Rgwi8XuJpWae",
        "colab": {
          "base_uri": "https://localhost:8080/"
        },
        "outputId": "672dde21-df66-40cc-ed4e-7eac9ba2cdab"
      },
      "outputs": [
        {
          "output_type": "stream",
          "name": "stdout",
          "text": [
            "Nilai 0 di kolom baths ada:  2045\n",
            "Nilai besar dari 9 di kolom baths ada:  0\n"
          ]
        }
      ],
      "source": [
        "beds = (df.baths == 0).sum()\n",
        "print(\"Nilai 0 di kolom baths ada: \", beds)\n",
        "\n",
        "beds = (df.baths > 9).sum()\n",
        "print(\"Nilai besar dari 9 di kolom baths ada: \", beds)"
      ]
    },
    {
      "cell_type": "code",
      "execution_count": 34,
      "metadata": {
        "id": "vo_JjXpMpeka",
        "colab": {
          "base_uri": "https://localhost:8080/"
        },
        "outputId": "608d515c-d360-4b49-c72c-d9d244e50d3f"
      },
      "outputs": [
        {
          "output_type": "execute_result",
          "data": {
            "text/plain": [
              "(255570, 14)"
            ]
          },
          "metadata": {},
          "execution_count": 34
        }
      ],
      "source": [
        "df = df.loc[(df[['baths']]!=0).all(axis=1)]\n",
        "df.shape"
      ]
    },
    {
      "cell_type": "code",
      "execution_count": 35,
      "metadata": {
        "id": "-G7n1qsNpi3C",
        "colab": {
          "base_uri": "https://localhost:8080/"
        },
        "outputId": "73e59ae1-7f40-42a1-c721-fd9e57e237ba"
      },
      "outputs": [
        {
          "output_type": "execute_result",
          "data": {
            "text/plain": [
              "(255570, 14)"
            ]
          },
          "metadata": {},
          "execution_count": 35
        }
      ],
      "source": [
        "df = df.loc[(df[['baths']]<=9).all(axis=1)]\n",
        "df.shape"
      ]
    },
    {
      "cell_type": "code",
      "execution_count": 36,
      "metadata": {
        "id": "z5ziJrx1p-84",
        "colab": {
          "base_uri": "https://localhost:8080/",
          "height": 607
        },
        "outputId": "a8c27384-06ef-428f-fbbd-b6ea9929cdad"
      },
      "outputs": [
        {
          "output_type": "display_data",
          "data": {
            "text/plain": [
              "<Figure size 720x720 with 12 Axes>"
            ],
            "image/png": "[encoded data removed]"
          },
          "metadata": {
            "needs_background": "light"
          }
        }
      ],
      "source": [
        "df.hist(bins=50, figsize=(10,10))\n",
        "plt.ticklabel_format(useOffset=False, style='plain')\n",
        "plt.show()"
      ]
    },
    {
      "cell_type": "code",
      "execution_count": 37,
      "metadata": {
        "id": "kdFQvsSqq225",
        "colab": {
          "base_uri": "https://localhost:8080/"
        },
        "outputId": "8e39d656-e5c0-48f6-8b88-76d851959ff3"
      },
      "outputs": [
        {
          "output_type": "execute_result",
          "data": {
            "text/plain": [
              "count        255570.000000\n",
              "mean          12656.828313\n",
              "std         5476574.592850\n",
              "min               0.000000\n",
              "25%             825.000000\n",
              "50%            1070.000000\n",
              "75%            1450.000000\n",
              "max      2768307249.000000\n",
              "Name: price, dtype: object"
            ]
          },
          "metadata": {},
          "execution_count": 37
        }
      ],
      "source": [
        "df.price.describe().apply(lambda x: format(x, 'f'))"
      ]
    },
    {
      "cell_type": "code",
      "execution_count": 38,
      "metadata": {
        "id": "u9-DCVVcrM4x",
        "colab": {
          "base_uri": "https://localhost:8080/"
        },
        "outputId": "6d45dc94-e75e-4b2b-8126-e810565807bf"
      },
      "outputs": [
        {
          "output_type": "execute_result",
          "data": {
            "text/plain": [
              "(254610, 14)"
            ]
          },
          "metadata": {},
          "execution_count": 38
        }
      ],
      "source": [
        "# Menghapus price per sqft outlier dengan mean dan one standard deviation\n",
        "def remove_pps_outliers(df):\n",
        "    df_out = pd.DataFrame()\n",
        "    for key, subdf in df.groupby('type'):\n",
        "        m = np.mean(subdf.price)\n",
        "        st = np.std(subdf.price)\n",
        "        reduced_df = subdf[(subdf.price>(m-st)) & (subdf.price<=(m+st))]\n",
        "        df_out = pd.concat([df_out,reduced_df],ignore_index=True)\n",
        "    return df_out\n",
        "\n",
        "df = remove_pps_outliers(df)\n",
        "df.shape"
      ]
    },
    {
      "cell_type": "code",
      "execution_count": 39,
      "metadata": {
        "id": "s7O67fYm0i--",
        "colab": {
          "base_uri": "https://localhost:8080/"
        },
        "outputId": "9b9d593c-6b25-4063-ea14-a85175eb09c0"
      },
      "outputs": [
        {
          "output_type": "execute_result",
          "data": {
            "text/plain": [
              "count     254610.000000\n",
              "mean        1111.379015\n",
              "std        23542.903470\n",
              "min            1.000000\n",
              "25%          771.250000\n",
              "50%          960.000000\n",
              "75%         1162.000000\n",
              "max      8388607.000000\n",
              "Name: sqfeet, dtype: object"
            ]
          },
          "metadata": {},
          "execution_count": 39
        }
      ],
      "source": [
        "df.sqfeet.describe().apply(lambda x: format(x, 'f'))"
      ]
    },
    {
      "cell_type": "code",
      "execution_count": 40,
      "metadata": {
        "id": "fzZ8f34B0own",
        "colab": {
          "base_uri": "https://localhost:8080/"
        },
        "outputId": "bb5d6f2e-944c-4c68-b231-f54657b48ccd"
      },
      "outputs": [
        {
          "output_type": "execute_result",
          "data": {
            "text/plain": [
              "(253979, 14)"
            ]
          },
          "metadata": {},
          "execution_count": 40
        }
      ],
      "source": [
        "# Menghapus price per sqft outlier dengan mean dan one standard deviation\n",
        "def remove_pps_outliers(df):\n",
        "    df_out = pd.DataFrame()\n",
        "    for key, subdf in df.groupby('type'):\n",
        "        m = np.mean(subdf.sqfeet)\n",
        "        st = np.std(subdf.sqfeet)\n",
        "        reduced_df = subdf[(subdf.sqfeet>(m-st)) & (subdf.sqfeet<=(m+st))]\n",
        "        df_out = pd.concat([df_out,reduced_df],ignore_index=True)\n",
        "    return df_out\n",
        "\n",
        "df = remove_pps_outliers(df)\n",
        "df.shape"
      ]
    },
    {
      "cell_type": "markdown",
      "metadata": {
        "id": "pC0q32ZGxso4"
      },
      "source": [
        "## Multivariate Analysis"
      ]
    },
    {
      "cell_type": "code",
      "execution_count": 41,
      "metadata": {
        "id": "MGWT--5Wx19K",
        "colab": {
          "base_uri": "https://localhost:8080/"
        },
        "outputId": "b0d056a6-661c-4f44-800d-b7a69f1a2d92"
      },
      "outputs": [
        {
          "output_type": "stream",
          "name": "stdout",
          "text": [
            "<class 'pandas.core.frame.DataFrame'>\n",
            "RangeIndex: 253979 entries, 0 to 253978\n",
            "Data columns (total 14 columns):\n",
            " #   Column                   Non-Null Count   Dtype \n",
            "---  ------                   --------------   ----- \n",
            " 0   price                    253979 non-null  int64 \n",
            " 1   type                     253979 non-null  object\n",
            " 2   sqfeet                   253979 non-null  int64 \n",
            " 3   beds                     253979 non-null  int64 \n",
            " 4   baths                    253979 non-null  int64 \n",
            " 5   cats_allowed             253979 non-null  int64 \n",
            " 6   dogs_allowed             253979 non-null  int64 \n",
            " 7   smoking_allowed          253979 non-null  int64 \n",
            " 8   wheelchair_access        253979 non-null  int64 \n",
            " 9   electric_vehicle_charge  253979 non-null  int64 \n",
            " 10  comes_furnished          253979 non-null  int64 \n",
            " 11  laundry_options          201921 non-null  object\n",
            " 12  parking_options          162573 non-null  object\n",
            " 13  state                    253978 non-null  object\n",
            "dtypes: int64(10), object(4)\n",
            "memory usage: 27.1+ MB\n"
          ]
        }
      ],
      "source": [
        "df.info()"
      ]
    },
    {
      "cell_type": "code",
      "execution_count": 42,
      "metadata": {
        "id": "59zNHFsfxwk7",
        "colab": {
          "base_uri": "https://localhost:8080/",
          "height": 1000
        },
        "outputId": "fffce841-a1ef-4779-9a5e-57b93f40ac70"
      },
      "outputs": [
        {
          "output_type": "display_data",
          "data": {
            "text/plain": [
              "<Figure size 864x288 with 1 Axes>"
            ],
            "image/png": "[encoded data removed]"
          },
          "metadata": {
            "needs_background": "light"
          }
        },
        {
          "output_type": "display_data",
          "data": {
            "text/plain": [
              "<Figure size 864x288 with 1 Axes>"
            ],
            "image/png": "[encoded data removed]"
          },
          "metadata": {
            "needs_background": "light"
          }
        },
        {
          "output_type": "display_data",
          "data": {
            "text/plain": [
              "<Figure size 864x288 with 1 Axes>"
            ],
            "image/png": "[encoded data removed]"
          },
          "metadata": {
            "needs_background": "light"
          }
        },
        {
          "output_type": "display_data",
          "data": {
            "text/plain": [
              "<Figure size 864x288 with 1 Axes>"
            ],
            "image/png": "[encoded data removed]"
          },
          "metadata": {
            "needs_background": "light"
          }
        }
      ],
      "source": [
        "cat_features = df.select_dtypes(include='object').columns.to_list()\n",
        " \n",
        "for col in cat_features:\n",
        "  sns.catplot(x=col, y=\"price\", kind=\"bar\", dodge=False, height = 4, aspect = 3,  data=df, palette=\"Set3\")\n",
        "  plt.title(\"Rata-rata 'price' Relatif terhadap - {}\".format(col))"
      ]
    },
    {
      "cell_type": "code",
      "execution_count": 43,
      "metadata": {
        "id": "dKfpx8xdyiEt",
        "colab": {
          "base_uri": "https://localhost:8080/",
          "height": 1000
        },
        "outputId": "8bb5d04a-774f-419d-a202-815327ea951c"
      },
      "outputs": [
        {
          "output_type": "execute_result",
          "data": {
            "text/plain": [
              "<seaborn.axisgrid.PairGrid at 0x7efc96e908d0>"
            ]
          },
          "metadata": {},
          "execution_count": 43
        },
        {
          "output_type": "display_data",
          "data": {
            "text/plain": [
              "<Figure size 1800x1800 with 110 Axes>"
            ],
            "image/png": "[encoded data removed]"
          },
          "metadata": {
            "needs_background": "light"
          }
        }
      ],
      "source": [
        "sns.pairplot(df, diag_kind = 'kde')"
      ]
    },
    {
      "cell_type": "code",
      "execution_count": 44,
      "metadata": {
        "id": "mWst5Wpuzn4P",
        "colab": {
          "base_uri": "https://localhost:8080/",
          "height": 954
        },
        "outputId": "6c28e83d-eef1-43ee-e1b9-33913a102f1d"
      },
      "outputs": [
        {
          "output_type": "execute_result",
          "data": {
            "text/plain": [
              "Text(0.5, 1.0, 'Correlation Matrix untuk Fitur Numerik ')"
            ]
          },
          "metadata": {},
          "execution_count": 44
        },
        {
          "output_type": "display_data",
          "data": {
            "text/plain": [
              "<Figure size 1152x1008 with 2 Axes>"
            ],
            "image/png": "[encoded data removed]"
          },
          "metadata": {
            "needs_background": "light"
          }
        }
      ],
      "source": [
        "plt.figure(figsize=(16, 14))\n",
        "correlation_matrix = df.corr().round(2)\n",
        " \n",
        "# Untuk menge-print nilai di dalam kotak, gunakan parameter anot=True\n",
        "sns.heatmap(data=correlation_matrix, annot=True, cmap='coolwarm', linewidths=0.5, )\n",
        "plt.title(\"Correlation Matrix untuk Fitur Numerik \", size=20)\n"
      ]
    },
    {
      "cell_type": "code",
      "execution_count": 45,
      "metadata": {
        "id": "8-feuM0f1GKW",
        "colab": {
          "base_uri": "https://localhost:8080/",
          "height": 206
        },
        "outputId": "f5771fbf-674b-4def-e146-6db4a079f871"
      },
      "outputs": [
        {
          "output_type": "execute_result",
          "data": {
            "text/plain": [
              "   price       type  sqfeet  beds  baths  cats_allowed  dogs_allowed  \\\n",
              "0   1195  apartment    1908     3      2             1             1   \n",
              "1   1120  apartment    1319     3      2             1             1   \n",
              "2    825  apartment    1133     1      2             1             1   \n",
              "3    800  apartment     927     1      1             1             1   \n",
              "4    785  apartment    1047     2      1             1             1   \n",
              "\n",
              "   laundry_options     parking_options state  \n",
              "0  laundry on site      street parking    al  \n",
              "1  laundry on site  off-street parking    al  \n",
              "2  laundry on site      street parking    al  \n",
              "3  laundry on site      street parking    al  \n",
              "4  laundry on site      street parking    al  "
            ],
            "text/html": [
              "\n",
              "  <div id=\"df-0d02816f-9035-476e-a266-cce322197809\">\n",
              "    <div class=\"colab-df-container\">\n",
              "      <div>\n",
              "<style scoped>\n",
              "    .dataframe tbody tr th:only-of-type {\n",
              "        vertical-align: middle;\n",
              "    }\n",
              "\n",
              "    .dataframe tbody tr th {\n",
              "        vertical-align: top;\n",
              "    }\n",
              "\n",
              "    .dataframe thead th {\n",
              "        text-align: right;\n",
              "    }\n",
              "</style>\n",
              "<table border=\"1\" class=\"dataframe\">\n",
              "  <thead>\n",
              "    <tr style=\"text-align: right;\">\n",
              "      <th></th>\n",
              "      <th>price</th>\n",
              "      <th>type</th>\n",
              "      <th>sqfeet</th>\n",
              "      <th>beds</th>\n",
              "      <th>baths</th>\n",
              "      <th>cats_allowed</th>\n",
              "      <th>dogs_allowed</th>\n",
              "      <th>laundry_options</th>\n",
              "      <th>parking_options</th>\n",
              "      <th>state</th>\n",
              "    </tr>\n",
              "  </thead>\n",
              "  <tbody>\n",
              "    <tr>\n",
              "      <th>0</th>\n",
              "      <td>1195</td>\n",
              "      <td>apartment</td>\n",
              "      <td>1908</td>\n",
              "      <td>3</td>\n",
              "      <td>2</td>\n",
              "      <td>1</td>\n",
              "      <td>1</td>\n",
              "      <td>laundry on site</td>\n",
              "      <td>street parking</td>\n",
              "      <td>al</td>\n",
              "    </tr>\n",
              "    <tr>\n",
              "      <th>1</th>\n",
              "      <td>1120</td>\n",
              "      <td>apartment</td>\n",
              "      <td>1319</td>\n",
              "      <td>3</td>\n",
              "      <td>2</td>\n",
              "      <td>1</td>\n",
              "      <td>1</td>\n",
              "      <td>laundry on site</td>\n",
              "      <td>off-street parking</td>\n",
              "      <td>al</td>\n",
              "    </tr>\n",
              "    <tr>\n",
              "      <th>2</th>\n",
              "      <td>825</td>\n",
              "      <td>apartment</td>\n",
              "      <td>1133</td>\n",
              "      <td>1</td>\n",
              "      <td>2</td>\n",
              "      <td>1</td>\n",
              "      <td>1</td>\n",
              "      <td>laundry on site</td>\n",
              "      <td>street parking</td>\n",
              "      <td>al</td>\n",
              "    </tr>\n",
              "    <tr>\n",
              "      <th>3</th>\n",
              "      <td>800</td>\n",
              "      <td>apartment</td>\n",
              "      <td>927</td>\n",
              "      <td>1</td>\n",
              "      <td>1</td>\n",
              "      <td>1</td>\n",
              "      <td>1</td>\n",
              "      <td>laundry on site</td>\n",
              "      <td>street parking</td>\n",
              "      <td>al</td>\n",
              "    </tr>\n",
              "    <tr>\n",
              "      <th>4</th>\n",
              "      <td>785</td>\n",
              "      <td>apartment</td>\n",
              "      <td>1047</td>\n",
              "      <td>2</td>\n",
              "      <td>1</td>\n",
              "      <td>1</td>\n",
              "      <td>1</td>\n",
              "      <td>laundry on site</td>\n",
              "      <td>street parking</td>\n",
              "      <td>al</td>\n",
              "    </tr>\n",
              "  </tbody>\n",
              "</table>\n",
              "</div>\n",
              "      <button class=\"colab-df-convert\" onclick=\"convertToInteractive('df-0d02816f-9035-476e-a266-cce322197809')\"\n",
              "              title=\"Convert this dataframe to an interactive table.\"\n",
              "              style=\"display:none;\">\n",
              "        \n",
              "  <svg xmlns=\"http://www.w3.org/2000/svg\" height=\"24px\"viewBox=\"0 0 24 24\"\n",
              "       width=\"24px\">\n",
              "    <path d=\"M0 0h24v24H0V0z\" fill=\"none\"/>\n",
              "    <path d=\"M18.56 5.44l.94 2.06.94-2.06 2.06-.94-2.06-.94-.94-2.06-.94 2.06-2.06.94zm-11 1L8.5 8.5l.94-2.06 2.06-.94-2.06-.94L8.5 2.5l-.94 2.06-2.06.94zm10 10l.94 2.06.94-2.06 2.06-.94-2.06-.94-.94-2.06-.94 2.06-2.06.94z\"/><path d=\"M17.41 7.96l-1.37-1.37c-.4-.4-.92-.59-1.43-.59-.52 0-1.04.2-1.43.59L10.3 9.45l-7.72 7.72c-.78.78-.78 2.05 0 2.83L4 21.41c.39.39.9.59 1.41.59.51 0 1.02-.2 1.41-.59l7.78-7.78 2.81-2.81c.8-.78.8-2.07 0-2.86zM5.41 20L4 18.59l7.72-7.72 1.47 1.35L5.41 20z\"/>\n",
              "  </svg>\n",
              "      </button>\n",
              "      \n",
              "  <style>\n",
              "    .colab-df-container {\n",
              "      display:flex;\n",
              "      flex-wrap:wrap;\n",
              "      gap: 12px;\n",
              "    }\n",
              "\n",
              "    .colab-df-convert {\n",
              "      background-color: #E8F0FE;\n",
              "      border: none;\n",
              "      border-radius: 50%;\n",
              "      cursor: pointer;\n",
              "      display: none;\n",
              "      fill: #1967D2;\n",
              "      height: 32px;\n",
              "      padding: 0 0 0 0;\n",
              "      width: 32px;\n",
              "    }\n",
              "\n",
              "    .colab-df-convert:hover {\n",
              "      background-color: #E2EBFA;\n",
              "      box-shadow: 0px 1px 2px rgba(60, 64, 67, 0.3), 0px 1px 3px 1px rgba(60, 64, 67, 0.15);\n",
              "      fill: #174EA6;\n",
              "    }\n",
              "\n",
              "    [theme=dark] .colab-df-convert {\n",
              "      background-color: #3B4455;\n",
              "      fill: #D2E3FC;\n",
              "    }\n",
              "\n",
              "    [theme=dark] .colab-df-convert:hover {\n",
              "      background-color: #434B5C;\n",
              "      box-shadow: 0px 1px 3px 1px rgba(0, 0, 0, 0.15);\n",
              "      filter: drop-shadow(0px 1px 2px rgba(0, 0, 0, 0.3));\n",
              "      fill: #FFFFFF;\n",
              "    }\n",
              "  </style>\n",
              "\n",
              "      <script>\n",
              "        const buttonEl =\n",
              "          document.querySelector('#df-0d02816f-9035-476e-a266-cce322197809 button.colab-df-convert');\n",
              "        buttonEl.style.display =\n",
              "          google.colab.kernel.accessAllowed ? 'block' : 'none';\n",
              "\n",
              "        async function convertToInteractive(key) {\n",
              "          const element = document.querySelector('#df-0d02816f-9035-476e-a266-cce322197809');\n",
              "          const dataTable =\n",
              "            await google.colab.kernel.invokeFunction('convertToInteractive',\n",
              "                                                     [key], {});\n",
              "          if (!dataTable) return;\n",
              "\n",
              "          const docLinkHtml = 'Like what you see? Visit the ' +\n",
              "            '<a target=\"_blank\" href=https://colab.research.google.com/notebooks/data_table.ipynb>data table notebook</a>'\n",
              "            + ' to learn more about interactive tables.';\n",
              "          element.innerHTML = '';\n",
              "          dataTable['output_type'] = 'display_data';\n",
              "          await google.colab.output.renderOutput(dataTable, element);\n",
              "          const docLink = document.createElement('div');\n",
              "          docLink.innerHTML = docLinkHtml;\n",
              "          element.appendChild(docLink);\n",
              "        }\n",
              "      </script>\n",
              "    </div>\n",
              "  </div>\n",
              "  "
            ]
          },
          "metadata": {},
          "execution_count": 45
        }
      ],
      "source": [
        "# Dari data metrik diatas, terdapat column yang tidak berkorelasi, sehingga dihapus\n",
        "df_new = df.drop(['comes_furnished', 'electric_vehicle_charge', 'wheelchair_access', 'smoking_allowed'], axis = 'columns')\n",
        "df_new.head()"
      ]
    },
    {
      "cell_type": "markdown",
      "metadata": {
        "id": "Qs6lfmYN25BG"
      },
      "source": [
        "## Data Preparation\n"
      ]
    },
    {
      "cell_type": "code",
      "execution_count": 46,
      "metadata": {
        "id": "gfIFAPfw3CFK",
        "colab": {
          "base_uri": "https://localhost:8080/",
          "height": 206
        },
        "outputId": "5db54023-cd57-47c6-c573-10de49e9165d"
      },
      "outputs": [
        {
          "output_type": "execute_result",
          "data": {
            "text/plain": [
              "   price       type  sqfeet  beds  baths  cats_allowed  dogs_allowed  \\\n",
              "0   1195  apartment    1908     3      2             1             1   \n",
              "1   1120  apartment    1319     3      2             1             1   \n",
              "2    825  apartment    1133     1      2             1             1   \n",
              "3    800  apartment     927     1      1             1             1   \n",
              "4    785  apartment    1047     2      1             1             1   \n",
              "\n",
              "   laundry_options     parking_options state  \n",
              "0  laundry on site      street parking    al  \n",
              "1  laundry on site  off-street parking    al  \n",
              "2  laundry on site      street parking    al  \n",
              "3  laundry on site      street parking    al  \n",
              "4  laundry on site      street parking    al  "
            ],
            "text/html": [
              "\n",
              "  <div id=\"df-6c48c845-57ed-45fd-a31c-f43998dcd141\">\n",
              "    <div class=\"colab-df-container\">\n",
              "      <div>\n",
              "<style scoped>\n",
              "    .dataframe tbody tr th:only-of-type {\n",
              "        vertical-align: middle;\n",
              "    }\n",
              "\n",
              "    .dataframe tbody tr th {\n",
              "        vertical-align: top;\n",
              "    }\n",
              "\n",
              "    .dataframe thead th {\n",
              "        text-align: right;\n",
              "    }\n",
              "</style>\n",
              "<table border=\"1\" class=\"dataframe\">\n",
              "  <thead>\n",
              "    <tr style=\"text-align: right;\">\n",
              "      <th></th>\n",
              "      <th>price</th>\n",
              "      <th>type</th>\n",
              "      <th>sqfeet</th>\n",
              "      <th>beds</th>\n",
              "      <th>baths</th>\n",
              "      <th>cats_allowed</th>\n",
              "      <th>dogs_allowed</th>\n",
              "      <th>laundry_options</th>\n",
              "      <th>parking_options</th>\n",
              "      <th>state</th>\n",
              "    </tr>\n",
              "  </thead>\n",
              "  <tbody>\n",
              "    <tr>\n",
              "      <th>0</th>\n",
              "      <td>1195</td>\n",
              "      <td>apartment</td>\n",
              "      <td>1908</td>\n",
              "      <td>3</td>\n",
              "      <td>2</td>\n",
              "      <td>1</td>\n",
              "      <td>1</td>\n",
              "      <td>laundry on site</td>\n",
              "      <td>street parking</td>\n",
              "      <td>al</td>\n",
              "    </tr>\n",
              "    <tr>\n",
              "      <th>1</th>\n",
              "      <td>1120</td>\n",
              "      <td>apartment</td>\n",
              "      <td>1319</td>\n",
              "      <td>3</td>\n",
              "      <td>2</td>\n",
              "      <td>1</td>\n",
              "      <td>1</td>\n",
              "      <td>laundry on site</td>\n",
              "      <td>off-street parking</td>\n",
              "      <td>al</td>\n",
              "    </tr>\n",
              "    <tr>\n",
              "      <th>2</th>\n",
              "      <td>825</td>\n",
              "      <td>apartment</td>\n",
              "      <td>1133</td>\n",
              "      <td>1</td>\n",
              "      <td>2</td>\n",
              "      <td>1</td>\n",
              "      <td>1</td>\n",
              "      <td>laundry on site</td>\n",
              "      <td>street parking</td>\n",
              "      <td>al</td>\n",
              "    </tr>\n",
              "    <tr>\n",
              "      <th>3</th>\n",
              "      <td>800</td>\n",
              "      <td>apartment</td>\n",
              "      <td>927</td>\n",
              "      <td>1</td>\n",
              "      <td>1</td>\n",
              "      <td>1</td>\n",
              "      <td>1</td>\n",
              "      <td>laundry on site</td>\n",
              "      <td>street parking</td>\n",
              "      <td>al</td>\n",
              "    </tr>\n",
              "    <tr>\n",
              "      <th>4</th>\n",
              "      <td>785</td>\n",
              "      <td>apartment</td>\n",
              "      <td>1047</td>\n",
              "      <td>2</td>\n",
              "      <td>1</td>\n",
              "      <td>1</td>\n",
              "      <td>1</td>\n",
              "      <td>laundry on site</td>\n",
              "      <td>street parking</td>\n",
              "      <td>al</td>\n",
              "    </tr>\n",
              "  </tbody>\n",
              "</table>\n",
              "</div>\n",
              "      <button class=\"colab-df-convert\" onclick=\"convertToInteractive('df-6c48c845-57ed-45fd-a31c-f43998dcd141')\"\n",
              "              title=\"Convert this dataframe to an interactive table.\"\n",
              "              style=\"display:none;\">\n",
              "        \n",
              "  <svg xmlns=\"http://www.w3.org/2000/svg\" height=\"24px\"viewBox=\"0 0 24 24\"\n",
              "       width=\"24px\">\n",
              "    <path d=\"M0 0h24v24H0V0z\" fill=\"none\"/>\n",
              "    <path d=\"M18.56 5.44l.94 2.06.94-2.06 2.06-.94-2.06-.94-.94-2.06-.94 2.06-2.06.94zm-11 1L8.5 8.5l.94-2.06 2.06-.94-2.06-.94L8.5 2.5l-.94 2.06-2.06.94zm10 10l.94 2.06.94-2.06 2.06-.94-2.06-.94-.94-2.06-.94 2.06-2.06.94z\"/><path d=\"M17.41 7.96l-1.37-1.37c-.4-.4-.92-.59-1.43-.59-.52 0-1.04.2-1.43.59L10.3 9.45l-7.72 7.72c-.78.78-.78 2.05 0 2.83L4 21.41c.39.39.9.59 1.41.59.51 0 1.02-.2 1.41-.59l7.78-7.78 2.81-2.81c.8-.78.8-2.07 0-2.86zM5.41 20L4 18.59l7.72-7.72 1.47 1.35L5.41 20z\"/>\n",
              "  </svg>\n",
              "      </button>\n",
              "      \n",
              "  <style>\n",
              "    .colab-df-container {\n",
              "      display:flex;\n",
              "      flex-wrap:wrap;\n",
              "      gap: 12px;\n",
              "    }\n",
              "\n",
              "    .colab-df-convert {\n",
              "      background-color: #E8F0FE;\n",
              "      border: none;\n",
              "      border-radius: 50%;\n",
              "      cursor: pointer;\n",
              "      display: none;\n",
              "      fill: #1967D2;\n",
              "      height: 32px;\n",
              "      padding: 0 0 0 0;\n",
              "      width: 32px;\n",
              "    }\n",
              "\n",
              "    .colab-df-convert:hover {\n",
              "      background-color: #E2EBFA;\n",
              "      box-shadow: 0px 1px 2px rgba(60, 64, 67, 0.3), 0px 1px 3px 1px rgba(60, 64, 67, 0.15);\n",
              "      fill: #174EA6;\n",
              "    }\n",
              "\n",
              "    [theme=dark] .colab-df-convert {\n",
              "      background-color: #3B4455;\n",
              "      fill: #D2E3FC;\n",
              "    }\n",
              "\n",
              "    [theme=dark] .colab-df-convert:hover {\n",
              "      background-color: #434B5C;\n",
              "      box-shadow: 0px 1px 3px 1px rgba(0, 0, 0, 0.15);\n",
              "      filter: drop-shadow(0px 1px 2px rgba(0, 0, 0, 0.3));\n",
              "      fill: #FFFFFF;\n",
              "    }\n",
              "  </style>\n",
              "\n",
              "      <script>\n",
              "        const buttonEl =\n",
              "          document.querySelector('#df-6c48c845-57ed-45fd-a31c-f43998dcd141 button.colab-df-convert');\n",
              "        buttonEl.style.display =\n",
              "          google.colab.kernel.accessAllowed ? 'block' : 'none';\n",
              "\n",
              "        async function convertToInteractive(key) {\n",
              "          const element = document.querySelector('#df-6c48c845-57ed-45fd-a31c-f43998dcd141');\n",
              "          const dataTable =\n",
              "            await google.colab.kernel.invokeFunction('convertToInteractive',\n",
              "                                                     [key], {});\n",
              "          if (!dataTable) return;\n",
              "\n",
              "          const docLinkHtml = 'Like what you see? Visit the ' +\n",
              "            '<a target=\"_blank\" href=https://colab.research.google.com/notebooks/data_table.ipynb>data table notebook</a>'\n",
              "            + ' to learn more about interactive tables.';\n",
              "          element.innerHTML = '';\n",
              "          dataTable['output_type'] = 'display_data';\n",
              "          await google.colab.output.renderOutput(dataTable, element);\n",
              "          const docLink = document.createElement('div');\n",
              "          docLink.innerHTML = docLinkHtml;\n",
              "          element.appendChild(docLink);\n",
              "        }\n",
              "      </script>\n",
              "    </div>\n",
              "  </div>\n",
              "  "
            ]
          },
          "metadata": {},
          "execution_count": 46
        }
      ],
      "source": [
        "df_new.head()"
      ]
    },
    {
      "cell_type": "code",
      "execution_count": 47,
      "metadata": {
        "id": "qWoPJAL724Lb",
        "colab": {
          "base_uri": "https://localhost:8080/",
          "height": 317
        },
        "outputId": "d272ce85-815c-4c0d-d80d-2a0dc8630e1b"
      },
      "outputs": [
        {
          "output_type": "execute_result",
          "data": {
            "text/plain": [
              "   price  sqfeet  beds  baths  cats_allowed  dogs_allowed  type_apartment  \\\n",
              "0   1195    1908     3      2             1             1               1   \n",
              "1   1120    1319     3      2             1             1               1   \n",
              "2    825    1133     1      2             1             1               1   \n",
              "3    800     927     1      1             1             1               1   \n",
              "4    785    1047     2      1             1             1               1   \n",
              "\n",
              "   type_condo  type_cottage/cabin  type_duplex  ...  \\\n",
              "0           0                   0            0  ...   \n",
              "1           0                   0            0  ...   \n",
              "2           0                   0            0  ...   \n",
              "3           0                   0            0  ...   \n",
              "4           0                   0            0  ...   \n",
              "\n",
              "   laundry_options_no laundry on site  laundry_options_w/d hookups  \\\n",
              "0                                   0                            0   \n",
              "1                                   0                            0   \n",
              "2                                   0                            0   \n",
              "3                                   0                            0   \n",
              "4                                   0                            0   \n",
              "\n",
              "   laundry_options_w/d in unit  parking_options_attached garage  \\\n",
              "0                            0                                0   \n",
              "1                            0                                0   \n",
              "2                            0                                0   \n",
              "3                            0                                0   \n",
              "4                            0                                0   \n",
              "\n",
              "   parking_options_carport  parking_options_detached garage  \\\n",
              "0                        0                                0   \n",
              "1                        0                                0   \n",
              "2                        0                                0   \n",
              "3                        0                                0   \n",
              "4                        0                                0   \n",
              "\n",
              "   parking_options_no parking  parking_options_off-street parking  \\\n",
              "0                           0                                   0   \n",
              "1                           0                                   1   \n",
              "2                           0                                   0   \n",
              "3                           0                                   0   \n",
              "4                           0                                   0   \n",
              "\n",
              "   parking_options_street parking  parking_options_valet parking  \n",
              "0                               1                              0  \n",
              "1                               0                              0  \n",
              "2                               1                              0  \n",
              "3                               1                              0  \n",
              "4                               1                              0  \n",
              "\n",
              "[5 rows x 66 columns]"
            ],
            "text/html": [
              "\n",
              "  <div id=\"df-02741937-499f-4022-8171-106ba70a17c8\">\n",
              "    <div class=\"colab-df-container\">\n",
              "      <div>\n",
              "<style scoped>\n",
              "    .dataframe tbody tr th:only-of-type {\n",
              "        vertical-align: middle;\n",
              "    }\n",
              "\n",
              "    .dataframe tbody tr th {\n",
              "        vertical-align: top;\n",
              "    }\n",
              "\n",
              "    .dataframe thead th {\n",
              "        text-align: right;\n",
              "    }\n",
              "</style>\n",
              "<table border=\"1\" class=\"dataframe\">\n",
              "  <thead>\n",
              "    <tr style=\"text-align: right;\">\n",
              "      <th></th>\n",
              "      <th>price</th>\n",
              "      <th>sqfeet</th>\n",
              "      <th>beds</th>\n",
              "      <th>baths</th>\n",
              "      <th>cats_allowed</th>\n",
              "      <th>dogs_allowed</th>\n",
              "      <th>type_apartment</th>\n",
              "      <th>type_condo</th>\n",
              "      <th>type_cottage/cabin</th>\n",
              "      <th>type_duplex</th>\n",
              "      <th>...</th>\n",
              "      <th>laundry_options_no laundry on site</th>\n",
              "      <th>laundry_options_w/d hookups</th>\n",
              "      <th>laundry_options_w/d in unit</th>\n",
              "      <th>parking_options_attached garage</th>\n",
              "      <th>parking_options_carport</th>\n",
              "      <th>parking_options_detached garage</th>\n",
              "      <th>parking_options_no parking</th>\n",
              "      <th>parking_options_off-street parking</th>\n",
              "      <th>parking_options_street parking</th>\n",
              "      <th>parking_options_valet parking</th>\n",
              "    </tr>\n",
              "  </thead>\n",
              "  <tbody>\n",
              "    <tr>\n",
              "      <th>0</th>\n",
              "      <td>1195</td>\n",
              "      <td>1908</td>\n",
              "      <td>3</td>\n",
              "      <td>2</td>\n",
              "      <td>1</td>\n",
              "      <td>1</td>\n",
              "      <td>1</td>\n",
              "      <td>0</td>\n",
              "      <td>0</td>\n",
              "      <td>0</td>\n",
              "      <td>...</td>\n",
              "      <td>0</td>\n",
              "      <td>0</td>\n",
              "      <td>0</td>\n",
              "      <td>0</td>\n",
              "      <td>0</td>\n",
              "      <td>0</td>\n",
              "      <td>0</td>\n",
              "      <td>0</td>\n",
              "      <td>1</td>\n",
              "      <td>0</td>\n",
              "    </tr>\n",
              "    <tr>\n",
              "      <th>1</th>\n",
              "      <td>1120</td>\n",
              "      <td>1319</td>\n",
              "      <td>3</td>\n",
              "      <td>2</td>\n",
              "      <td>1</td>\n",
              "      <td>1</td>\n",
              "      <td>1</td>\n",
              "      <td>0</td>\n",
              "      <td>0</td>\n",
              "      <td>0</td>\n",
              "      <td>...</td>\n",
              "      <td>0</td>\n",
              "      <td>0</td>\n",
              "      <td>0</td>\n",
              "      <td>0</td>\n",
              "      <td>0</td>\n",
              "      <td>0</td>\n",
              "      <td>0</td>\n",
              "      <td>1</td>\n",
              "      <td>0</td>\n",
              "      <td>0</td>\n",
              "    </tr>\n",
              "    <tr>\n",
              "      <th>2</th>\n",
              "      <td>825</td>\n",
              "      <td>1133</td>\n",
              "      <td>1</td>\n",
              "      <td>2</td>\n",
              "      <td>1</td>\n",
              "      <td>1</td>\n",
              "      <td>1</td>\n",
              "      <td>0</td>\n",
              "      <td>0</td>\n",
              "      <td>0</td>\n",
              "      <td>...</td>\n",
              "      <td>0</td>\n",
              "      <td>0</td>\n",
              "      <td>0</td>\n",
              "      <td>0</td>\n",
              "      <td>0</td>\n",
              "      <td>0</td>\n",
              "      <td>0</td>\n",
              "      <td>0</td>\n",
              "      <td>1</td>\n",
              "      <td>0</td>\n",
              "    </tr>\n",
              "    <tr>\n",
              "      <th>3</th>\n",
              "      <td>800</td>\n",
              "      <td>927</td>\n",
              "      <td>1</td>\n",
              "      <td>1</td>\n",
              "      <td>1</td>\n",
              "      <td>1</td>\n",
              "      <td>1</td>\n",
              "      <td>0</td>\n",
              "      <td>0</td>\n",
              "      <td>0</td>\n",
              "      <td>...</td>\n",
              "      <td>0</td>\n",
              "      <td>0</td>\n",
              "      <td>0</td>\n",
              "      <td>0</td>\n",
              "      <td>0</td>\n",
              "      <td>0</td>\n",
              "      <td>0</td>\n",
              "      <td>0</td>\n",
              "      <td>1</td>\n",
              "      <td>0</td>\n",
              "    </tr>\n",
              "    <tr>\n",
              "      <th>4</th>\n",
              "      <td>785</td>\n",
              "      <td>1047</td>\n",
              "      <td>2</td>\n",
              "      <td>1</td>\n",
              "      <td>1</td>\n",
              "      <td>1</td>\n",
              "      <td>1</td>\n",
              "      <td>0</td>\n",
              "      <td>0</td>\n",
              "      <td>0</td>\n",
              "      <td>...</td>\n",
              "      <td>0</td>\n",
              "      <td>0</td>\n",
              "      <td>0</td>\n",
              "      <td>0</td>\n",
              "      <td>0</td>\n",
              "      <td>0</td>\n",
              "      <td>0</td>\n",
              "      <td>0</td>\n",
              "      <td>1</td>\n",
              "      <td>0</td>\n",
              "    </tr>\n",
              "  </tbody>\n",
              "</table>\n",
              "<p>5 rows × 66 columns</p>\n",
              "</div>\n",
              "      <button class=\"colab-df-convert\" onclick=\"convertToInteractive('df-02741937-499f-4022-8171-106ba70a17c8')\"\n",
              "              title=\"Convert this dataframe to an interactive table.\"\n",
              "              style=\"display:none;\">\n",
              "        \n",
              "  <svg xmlns=\"http://www.w3.org/2000/svg\" height=\"24px\"viewBox=\"0 0 24 24\"\n",
              "       width=\"24px\">\n",
              "    <path d=\"M0 0h24v24H0V0z\" fill=\"none\"/>\n",
              "    <path d=\"M18.56 5.44l.94 2.06.94-2.06 2.06-.94-2.06-.94-.94-2.06-.94 2.06-2.06.94zm-11 1L8.5 8.5l.94-2.06 2.06-.94-2.06-.94L8.5 2.5l-.94 2.06-2.06.94zm10 10l.94 2.06.94-2.06 2.06-.94-2.06-.94-.94-2.06-.94 2.06-2.06.94z\"/><path d=\"M17.41 7.96l-1.37-1.37c-.4-.4-.92-.59-1.43-.59-.52 0-1.04.2-1.43.59L10.3 9.45l-7.72 7.72c-.78.78-.78 2.05 0 2.83L4 21.41c.39.39.9.59 1.41.59.51 0 1.02-.2 1.41-.59l7.78-7.78 2.81-2.81c.8-.78.8-2.07 0-2.86zM5.41 20L4 18.59l7.72-7.72 1.47 1.35L5.41 20z\"/>\n",
              "  </svg>\n",
              "      </button>\n",
              "      \n",
              "  <style>\n",
              "    .colab-df-container {\n",
              "      display:flex;\n",
              "      flex-wrap:wrap;\n",
              "      gap: 12px;\n",
              "    }\n",
              "\n",
              "    .colab-df-convert {\n",
              "      background-color: #E8F0FE;\n",
              "      border: none;\n",
              "      border-radius: 50%;\n",
              "      cursor: pointer;\n",
              "      display: none;\n",
              "      fill: #1967D2;\n",
              "      height: 32px;\n",
              "      padding: 0 0 0 0;\n",
              "      width: 32px;\n",
              "    }\n",
              "\n",
              "    .colab-df-convert:hover {\n",
              "      background-color: #E2EBFA;\n",
              "      box-shadow: 0px 1px 2px rgba(60, 64, 67, 0.3), 0px 1px 3px 1px rgba(60, 64, 67, 0.15);\n",
              "      fill: #174EA6;\n",
              "    }\n",
              "\n",
              "    [theme=dark] .colab-df-convert {\n",
              "      background-color: #3B4455;\n",
              "      fill: #D2E3FC;\n",
              "    }\n",
              "\n",
              "    [theme=dark] .colab-df-convert:hover {\n",
              "      background-color: #434B5C;\n",
              "      box-shadow: 0px 1px 3px 1px rgba(0, 0, 0, 0.15);\n",
              "      filter: drop-shadow(0px 1px 2px rgba(0, 0, 0, 0.3));\n",
              "      fill: #FFFFFF;\n",
              "    }\n",
              "  </style>\n",
              "\n",
              "      <script>\n",
              "        const buttonEl =\n",
              "          document.querySelector('#df-02741937-499f-4022-8171-106ba70a17c8 button.colab-df-convert');\n",
              "        buttonEl.style.display =\n",
              "          google.colab.kernel.accessAllowed ? 'block' : 'none';\n",
              "\n",
              "        async function convertToInteractive(key) {\n",
              "          const element = document.querySelector('#df-02741937-499f-4022-8171-106ba70a17c8');\n",
              "          const dataTable =\n",
              "            await google.colab.kernel.invokeFunction('convertToInteractive',\n",
              "                                                     [key], {});\n",
              "          if (!dataTable) return;\n",
              "\n",
              "          const docLinkHtml = 'Like what you see? Visit the ' +\n",
              "            '<a target=\"_blank\" href=https://colab.research.google.com/notebooks/data_table.ipynb>data table notebook</a>'\n",
              "            + ' to learn more about interactive tables.';\n",
              "          element.innerHTML = '';\n",
              "          dataTable['output_type'] = 'display_data';\n",
              "          await google.colab.output.renderOutput(dataTable, element);\n",
              "          const docLink = document.createElement('div');\n",
              "          docLink.innerHTML = docLinkHtml;\n",
              "          element.appendChild(docLink);\n",
              "        }\n",
              "      </script>\n",
              "    </div>\n",
              "  </div>\n",
              "  "
            ]
          },
          "metadata": {},
          "execution_count": 47
        }
      ],
      "source": [
        " # One hot encoding\n",
        "df_new = pd.get_dummies(data = df_new, columns = ['type'])\n",
        "df_new = pd.get_dummies(data = df_new, columns = ['state'])\n",
        "df_new = pd.get_dummies(data = df_new, columns = ['laundry_options'])\n",
        "df_new = pd.get_dummies(data = df_new, columns = ['parking_options'])\n",
        "df_new.head()"
      ]
    },
    {
      "cell_type": "code",
      "execution_count": 48,
      "metadata": {
        "id": "5wHba_sX3qiB"
      },
      "outputs": [],
      "source": [
        "from sklearn.model_selection import train_test_split\n",
        " \n",
        "X = df_new.drop([\"price\"],axis =1)\n",
        "y = df_new[\"price\"]\n",
        "X_train, X_test, y_train, y_test = train_test_split(X, y, test_size = 0.05, random_state=123)\n"
      ]
    },
    {
      "cell_type": "code",
      "execution_count": 49,
      "metadata": {
        "id": "mdRUaNos4Rlt",
        "colab": {
          "base_uri": "https://localhost:8080/"
        },
        "outputId": "ad896dfb-f4f4-4882-ff90-ce353054823b"
      },
      "outputs": [
        {
          "output_type": "stream",
          "name": "stdout",
          "text": [
            "Total # of sample in whole dataset: 253979\n",
            "Total # of sample in train dataset: 241280\n",
            "Total # of sample in test dataset: 12699\n"
          ]
        }
      ],
      "source": [
        "print(f'Total # of sample in whole dataset: {len(X)}')\n",
        "print(f'Total # of sample in train dataset: {len(X_train)}')\n",
        "print(f'Total # of sample in test dataset: {len(X_test)}')"
      ]
    },
    {
      "cell_type": "code",
      "execution_count": 50,
      "metadata": {
        "id": "TT0qFiN7QS05",
        "colab": {
          "base_uri": "https://localhost:8080/",
          "height": 206
        },
        "outputId": "fee77ccc-9781-46b2-f9de-c70f68a4b78c"
      },
      "outputs": [
        {
          "output_type": "execute_result",
          "data": {
            "text/plain": [
              "          sqfeet      beds     baths\n",
              "61743   0.769856  0.056756  0.706126\n",
              "216048  0.240823  1.261064 -0.887257\n",
              "7439    0.345139  1.261064  0.706126\n",
              "206383 -0.280760 -1.147551 -0.887257\n",
              "111238 -1.095422 -1.147551 -0.887257"
            ],
            "text/html": [
              "\n",
              "  <div id=\"df-013a8aa1-877c-4527-acbe-c00a1a90e701\">\n",
              "    <div class=\"colab-df-container\">\n",
              "      <div>\n",
              "<style scoped>\n",
              "    .dataframe tbody tr th:only-of-type {\n",
              "        vertical-align: middle;\n",
              "    }\n",
              "\n",
              "    .dataframe tbody tr th {\n",
              "        vertical-align: top;\n",
              "    }\n",
              "\n",
              "    .dataframe thead th {\n",
              "        text-align: right;\n",
              "    }\n",
              "</style>\n",
              "<table border=\"1\" class=\"dataframe\">\n",
              "  <thead>\n",
              "    <tr style=\"text-align: right;\">\n",
              "      <th></th>\n",
              "      <th>sqfeet</th>\n",
              "      <th>beds</th>\n",
              "      <th>baths</th>\n",
              "    </tr>\n",
              "  </thead>\n",
              "  <tbody>\n",
              "    <tr>\n",
              "      <th>61743</th>\n",
              "      <td>0.769856</td>\n",
              "      <td>0.056756</td>\n",
              "      <td>0.706126</td>\n",
              "    </tr>\n",
              "    <tr>\n",
              "      <th>216048</th>\n",
              "      <td>0.240823</td>\n",
              "      <td>1.261064</td>\n",
              "      <td>-0.887257</td>\n",
              "    </tr>\n",
              "    <tr>\n",
              "      <th>7439</th>\n",
              "      <td>0.345139</td>\n",
              "      <td>1.261064</td>\n",
              "      <td>0.706126</td>\n",
              "    </tr>\n",
              "    <tr>\n",
              "      <th>206383</th>\n",
              "      <td>-0.280760</td>\n",
              "      <td>-1.147551</td>\n",
              "      <td>-0.887257</td>\n",
              "    </tr>\n",
              "    <tr>\n",
              "      <th>111238</th>\n",
              "      <td>-1.095422</td>\n",
              "      <td>-1.147551</td>\n",
              "      <td>-0.887257</td>\n",
              "    </tr>\n",
              "  </tbody>\n",
              "</table>\n",
              "</div>\n",
              "      <button class=\"colab-df-convert\" onclick=\"convertToInteractive('df-013a8aa1-877c-4527-acbe-c00a1a90e701')\"\n",
              "              title=\"Convert this dataframe to an interactive table.\"\n",
              "              style=\"display:none;\">\n",
              "        \n",
              "  <svg xmlns=\"http://www.w3.org/2000/svg\" height=\"24px\"viewBox=\"0 0 24 24\"\n",
              "       width=\"24px\">\n",
              "    <path d=\"M0 0h24v24H0V0z\" fill=\"none\"/>\n",
              "    <path d=\"M18.56 5.44l.94 2.06.94-2.06 2.06-.94-2.06-.94-.94-2.06-.94 2.06-2.06.94zm-11 1L8.5 8.5l.94-2.06 2.06-.94-2.06-.94L8.5 2.5l-.94 2.06-2.06.94zm10 10l.94 2.06.94-2.06 2.06-.94-2.06-.94-.94-2.06-.94 2.06-2.06.94z\"/><path d=\"M17.41 7.96l-1.37-1.37c-.4-.4-.92-.59-1.43-.59-.52 0-1.04.2-1.43.59L10.3 9.45l-7.72 7.72c-.78.78-.78 2.05 0 2.83L4 21.41c.39.39.9.59 1.41.59.51 0 1.02-.2 1.41-.59l7.78-7.78 2.81-2.81c.8-.78.8-2.07 0-2.86zM5.41 20L4 18.59l7.72-7.72 1.47 1.35L5.41 20z\"/>\n",
              "  </svg>\n",
              "      </button>\n",
              "      \n",
              "  <style>\n",
              "    .colab-df-container {\n",
              "      display:flex;\n",
              "      flex-wrap:wrap;\n",
              "      gap: 12px;\n",
              "    }\n",
              "\n",
              "    .colab-df-convert {\n",
              "      background-color: #E8F0FE;\n",
              "      border: none;\n",
              "      border-radius: 50%;\n",
              "      cursor: pointer;\n",
              "      display: none;\n",
              "      fill: #1967D2;\n",
              "      height: 32px;\n",
              "      padding: 0 0 0 0;\n",
              "      width: 32px;\n",
              "    }\n",
              "\n",
              "    .colab-df-convert:hover {\n",
              "      background-color: #E2EBFA;\n",
              "      box-shadow: 0px 1px 2px rgba(60, 64, 67, 0.3), 0px 1px 3px 1px rgba(60, 64, 67, 0.15);\n",
              "      fill: #174EA6;\n",
              "    }\n",
              "\n",
              "    [theme=dark] .colab-df-convert {\n",
              "      background-color: #3B4455;\n",
              "      fill: #D2E3FC;\n",
              "    }\n",
              "\n",
              "    [theme=dark] .colab-df-convert:hover {\n",
              "      background-color: #434B5C;\n",
              "      box-shadow: 0px 1px 3px 1px rgba(0, 0, 0, 0.15);\n",
              "      filter: drop-shadow(0px 1px 2px rgba(0, 0, 0, 0.3));\n",
              "      fill: #FFFFFF;\n",
              "    }\n",
              "  </style>\n",
              "\n",
              "      <script>\n",
              "        const buttonEl =\n",
              "          document.querySelector('#df-013a8aa1-877c-4527-acbe-c00a1a90e701 button.colab-df-convert');\n",
              "        buttonEl.style.display =\n",
              "          google.colab.kernel.accessAllowed ? 'block' : 'none';\n",
              "\n",
              "        async function convertToInteractive(key) {\n",
              "          const element = document.querySelector('#df-013a8aa1-877c-4527-acbe-c00a1a90e701');\n",
              "          const dataTable =\n",
              "            await google.colab.kernel.invokeFunction('convertToInteractive',\n",
              "                                                     [key], {});\n",
              "          if (!dataTable) return;\n",
              "\n",
              "          const docLinkHtml = 'Like what you see? Visit the ' +\n",
              "            '<a target=\"_blank\" href=https://colab.research.google.com/notebooks/data_table.ipynb>data table notebook</a>'\n",
              "            + ' to learn more about interactive tables.';\n",
              "          element.innerHTML = '';\n",
              "          dataTable['output_type'] = 'display_data';\n",
              "          await google.colab.output.renderOutput(dataTable, element);\n",
              "          const docLink = document.createElement('div');\n",
              "          docLink.innerHTML = docLinkHtml;\n",
              "          element.appendChild(docLink);\n",
              "        }\n",
              "      </script>\n",
              "    </div>\n",
              "  </div>\n",
              "  "
            ]
          },
          "metadata": {},
          "execution_count": 50
        }
      ],
      "source": [
        "from sklearn.preprocessing import StandardScaler\n",
        "\n",
        "# Normalisasi data train\n",
        "numerical_features = ['sqfeet','beds', 'baths']\n",
        "scaler = StandardScaler()\n",
        "scaler.fit(X_train[numerical_features])\n",
        "X_train[numerical_features] = scaler.transform(X_train.loc[:, numerical_features])\n",
        "X_train[numerical_features].head()"
      ]
    },
    {
      "cell_type": "code",
      "execution_count": 51,
      "metadata": {
        "id": "mMnwMRJE4uXm"
      },
      "outputs": [],
      "source": [
        "# Normalisasi data test\n",
        "X_test.loc[:, numerical_features] = scaler.transform(X_test[numerical_features])"
      ]
    },
    {
      "cell_type": "markdown",
      "metadata": {
        "id": "0TeZKQui4yxF"
      },
      "source": [
        "## Modeliing"
      ]
    },
    {
      "cell_type": "code",
      "execution_count": 52,
      "metadata": {
        "id": "skcywj5340k_"
      },
      "outputs": [],
      "source": [
        "from sklearn.neighbors import KNeighborsRegressor\n",
        "from sklearn.ensemble import RandomForestRegressor\n",
        "from sklearn.ensemble import AdaBoostRegressor"
      ]
    },
    {
      "cell_type": "code",
      "execution_count": 53,
      "metadata": {
        "id": "2gw-6tR7JwpE"
      },
      "outputs": [],
      "source": [
        "# Siapkan dataframe untuk analisis model\n",
        "models = pd.DataFrame(index=['train_mse', 'test_mse'], \n",
        "                      columns=['KNN', 'RandomForest', 'Boosting'])"
      ]
    },
    {
      "cell_type": "code",
      "execution_count": 54,
      "metadata": {
        "id": "rSV-kU4XJ11I"
      },
      "outputs": [],
      "source": [
        "from sklearn.neighbors import KNeighborsRegressor\n",
        "from sklearn.metrics import mean_squared_error\n",
        " \n",
        "knn = KNeighborsRegressor(n_neighbors=10)\n",
        "knn.fit(X_train, y_train)\n",
        " \n",
        "models.loc['train_mse','knn'] = mean_squared_error(y_pred = knn.predict(X_train), y_true=y_train)"
      ]
    },
    {
      "cell_type": "code",
      "execution_count": 55,
      "metadata": {
        "id": "YV_uXPiGPv-e"
      },
      "outputs": [],
      "source": [
        "# Impor library yang dibutuhkan\n",
        "from sklearn.ensemble import RandomForestRegressor\n",
        " \n",
        "# buat model prediksi\n",
        "RF = RandomForestRegressor(n_estimators=50, max_depth=16, random_state=55, n_jobs=-1)\n",
        "RF.fit(X_train, y_train)\n",
        " \n",
        "models.loc['train_mse','RandomForest'] = mean_squared_error(y_pred=RF.predict(X_train), y_true=y_train)          "
      ]
    },
    {
      "cell_type": "code",
      "execution_count": 56,
      "metadata": {
        "id": "G9lfjTiuP1Zc"
      },
      "outputs": [],
      "source": [
        "from sklearn.ensemble import AdaBoostRegressor\n",
        " \n",
        "boosting = AdaBoostRegressor(learning_rate=0.05, random_state=55)                             \n",
        "boosting.fit(X_train, y_train)\n",
        "models.loc['train_mse','Boosting'] = mean_squared_error(y_pred=boosting.predict(X_train), y_true=y_train)"
      ]
    },
    {
      "cell_type": "code",
      "execution_count": 57,
      "metadata": {
        "id": "VWdK-FJbP9Fg"
      },
      "outputs": [],
      "source": [
        "X_test.loc[:, numerical_features] = scaler.transform(X_test[numerical_features])"
      ]
    },
    {
      "cell_type": "code",
      "execution_count": 58,
      "metadata": {
        "id": "baXT0DrnQA7n",
        "colab": {
          "base_uri": "https://localhost:8080/",
          "height": 143
        },
        "outputId": "dcb1882e-265e-47c4-dab3-14bcb128f3b0"
      },
      "outputs": [
        {
          "output_type": "execute_result",
          "data": {
            "text/plain": [
              "                 train           test\n",
              "KNN       30750.922947  134069.353599\n",
              "RF         18464.87181  135898.532381\n",
              "Boosting  91101.065848   134836.83253"
            ],
            "text/html": [
              "\n",
              "  <div id=\"df-16351083-1136-43a2-afd7-bd4e6470404e\">\n",
              "    <div class=\"colab-df-container\">\n",
              "      <div>\n",
              "<style scoped>\n",
              "    .dataframe tbody tr th:only-of-type {\n",
              "        vertical-align: middle;\n",
              "    }\n",
              "\n",
              "    .dataframe tbody tr th {\n",
              "        vertical-align: top;\n",
              "    }\n",
              "\n",
              "    .dataframe thead th {\n",
              "        text-align: right;\n",
              "    }\n",
              "</style>\n",
              "<table border=\"1\" class=\"dataframe\">\n",
              "  <thead>\n",
              "    <tr style=\"text-align: right;\">\n",
              "      <th></th>\n",
              "      <th>train</th>\n",
              "      <th>test</th>\n",
              "    </tr>\n",
              "  </thead>\n",
              "  <tbody>\n",
              "    <tr>\n",
              "      <th>KNN</th>\n",
              "      <td>30750.922947</td>\n",
              "      <td>134069.353599</td>\n",
              "    </tr>\n",
              "    <tr>\n",
              "      <th>RF</th>\n",
              "      <td>18464.87181</td>\n",
              "      <td>135898.532381</td>\n",
              "    </tr>\n",
              "    <tr>\n",
              "      <th>Boosting</th>\n",
              "      <td>91101.065848</td>\n",
              "      <td>134836.83253</td>\n",
              "    </tr>\n",
              "  </tbody>\n",
              "</table>\n",
              "</div>\n",
              "      <button class=\"colab-df-convert\" onclick=\"convertToInteractive('df-16351083-1136-43a2-afd7-bd4e6470404e')\"\n",
              "              title=\"Convert this dataframe to an interactive table.\"\n",
              "              style=\"display:none;\">\n",
              "        \n",
              "  <svg xmlns=\"http://www.w3.org/2000/svg\" height=\"24px\"viewBox=\"0 0 24 24\"\n",
              "       width=\"24px\">\n",
              "    <path d=\"M0 0h24v24H0V0z\" fill=\"none\"/>\n",
              "    <path d=\"M18.56 5.44l.94 2.06.94-2.06 2.06-.94-2.06-.94-.94-2.06-.94 2.06-2.06.94zm-11 1L8.5 8.5l.94-2.06 2.06-.94-2.06-.94L8.5 2.5l-.94 2.06-2.06.94zm10 10l.94 2.06.94-2.06 2.06-.94-2.06-.94-.94-2.06-.94 2.06-2.06.94z\"/><path d=\"M17.41 7.96l-1.37-1.37c-.4-.4-.92-.59-1.43-.59-.52 0-1.04.2-1.43.59L10.3 9.45l-7.72 7.72c-.78.78-.78 2.05 0 2.83L4 21.41c.39.39.9.59 1.41.59.51 0 1.02-.2 1.41-.59l7.78-7.78 2.81-2.81c.8-.78.8-2.07 0-2.86zM5.41 20L4 18.59l7.72-7.72 1.47 1.35L5.41 20z\"/>\n",
              "  </svg>\n",
              "      </button>\n",
              "      \n",
              "  <style>\n",
              "    .colab-df-container {\n",
              "      display:flex;\n",
              "      flex-wrap:wrap;\n",
              "      gap: 12px;\n",
              "    }\n",
              "\n",
              "    .colab-df-convert {\n",
              "      background-color: #E8F0FE;\n",
              "      border: none;\n",
              "      border-radius: 50%;\n",
              "      cursor: pointer;\n",
              "      display: none;\n",
              "      fill: #1967D2;\n",
              "      height: 32px;\n",
              "      padding: 0 0 0 0;\n",
              "      width: 32px;\n",
              "    }\n",
              "\n",
              "    .colab-df-convert:hover {\n",
              "      background-color: #E2EBFA;\n",
              "      box-shadow: 0px 1px 2px rgba(60, 64, 67, 0.3), 0px 1px 3px 1px rgba(60, 64, 67, 0.15);\n",
              "      fill: #174EA6;\n",
              "    }\n",
              "\n",
              "    [theme=dark] .colab-df-convert {\n",
              "      background-color: #3B4455;\n",
              "      fill: #D2E3FC;\n",
              "    }\n",
              "\n",
              "    [theme=dark] .colab-df-convert:hover {\n",
              "      background-color: #434B5C;\n",
              "      box-shadow: 0px 1px 3px 1px rgba(0, 0, 0, 0.15);\n",
              "      filter: drop-shadow(0px 1px 2px rgba(0, 0, 0, 0.3));\n",
              "      fill: #FFFFFF;\n",
              "    }\n",
              "  </style>\n",
              "\n",
              "      <script>\n",
              "        const buttonEl =\n",
              "          document.querySelector('#df-16351083-1136-43a2-afd7-bd4e6470404e button.colab-df-convert');\n",
              "        buttonEl.style.display =\n",
              "          google.colab.kernel.accessAllowed ? 'block' : 'none';\n",
              "\n",
              "        async function convertToInteractive(key) {\n",
              "          const element = document.querySelector('#df-16351083-1136-43a2-afd7-bd4e6470404e');\n",
              "          const dataTable =\n",
              "            await google.colab.kernel.invokeFunction('convertToInteractive',\n",
              "                                                     [key], {});\n",
              "          if (!dataTable) return;\n",
              "\n",
              "          const docLinkHtml = 'Like what you see? Visit the ' +\n",
              "            '<a target=\"_blank\" href=https://colab.research.google.com/notebooks/data_table.ipynb>data table notebook</a>'\n",
              "            + ' to learn more about interactive tables.';\n",
              "          element.innerHTML = '';\n",
              "          dataTable['output_type'] = 'display_data';\n",
              "          await google.colab.output.renderOutput(dataTable, element);\n",
              "          const docLink = document.createElement('div');\n",
              "          docLink.innerHTML = docLinkHtml;\n",
              "          element.appendChild(docLink);\n",
              "        }\n",
              "      </script>\n",
              "    </div>\n",
              "  </div>\n",
              "  "
            ]
          },
          "metadata": {},
          "execution_count": 58
        }
      ],
      "source": [
        "# Buat variabel mse yang isinya adalah dataframe nilai mse data train dan test pada masing-masing algoritma\n",
        "mse = pd.DataFrame(columns=['train', 'test'], index=['KNN','RF','Boosting'])\n",
        " \n",
        "# Buat dictionary untuk setiap algoritma yang digunakan\n",
        "model_dict = {'KNN': knn, 'RF': RF, 'Boosting': boosting}\n",
        " \n",
        "# Hitung Mean Squared Error masing-masing algoritma pada data train dan test\n",
        "for name, model in model_dict.items():\n",
        "    mse.loc[name, 'train'] = mean_squared_error(y_true=y_train, y_pred=model.predict(X_train))/1e3 \n",
        "    mse.loc[name, 'test'] = mean_squared_error(y_true=y_test, y_pred=model.predict(X_test))/1e3\n",
        "  \n",
        "# Panggil mse\n",
        "mse\n"
      ]
    },
    {
      "cell_type": "code",
      "execution_count": 59,
      "metadata": {
        "id": "8HHvQtVmQFRw",
        "colab": {
          "base_uri": "https://localhost:8080/",
          "height": 265
        },
        "outputId": "6acb3a21-bbb6-429f-dfac-59211eb1da6f"
      },
      "outputs": [
        {
          "output_type": "display_data",
          "data": {
            "text/plain": [
              "<Figure size 432x288 with 1 Axes>"
            ],
            "image/png": "[encoded data removed]"
          },
          "metadata": {
            "needs_background": "light"
          }
        }
      ],
      "source": [
        "fig, ax = plt.subplots()\n",
        "mse.sort_values(by='test', ascending=False).plot(kind='barh', ax=ax, zorder=3)\n",
        "ax.grid(zorder=0)\n"
      ]
    },
    {
      "cell_type": "code",
      "execution_count": 60,
      "metadata": {
        "id": "DnsozlaBQLHN",
        "colab": {
          "base_uri": "https://localhost:8080/",
          "height": 81
        },
        "outputId": "dd5bb53d-79b1-47c1-9dc5-b0c1ea1fb6ac"
      },
      "outputs": [
        {
          "output_type": "execute_result",
          "data": {
            "text/plain": [
              "        y_true  prediksi_KNN  prediksi_RF  prediksi_Boosting\n",
              "202465     745         546.5        615.6             1471.8"
            ],
            "text/html": [
              "\n",
              "  <div id=\"df-5df9bf67-af54-4177-9a94-1aa35ea8b1c0\">\n",
              "    <div class=\"colab-df-container\">\n",
              "      <div>\n",
              "<style scoped>\n",
              "    .dataframe tbody tr th:only-of-type {\n",
              "        vertical-align: middle;\n",
              "    }\n",
              "\n",
              "    .dataframe tbody tr th {\n",
              "        vertical-align: top;\n",
              "    }\n",
              "\n",
              "    .dataframe thead th {\n",
              "        text-align: right;\n",
              "    }\n",
              "</style>\n",
              "<table border=\"1\" class=\"dataframe\">\n",
              "  <thead>\n",
              "    <tr style=\"text-align: right;\">\n",
              "      <th></th>\n",
              "      <th>y_true</th>\n",
              "      <th>prediksi_KNN</th>\n",
              "      <th>prediksi_RF</th>\n",
              "      <th>prediksi_Boosting</th>\n",
              "    </tr>\n",
              "  </thead>\n",
              "  <tbody>\n",
              "    <tr>\n",
              "      <th>202465</th>\n",
              "      <td>745</td>\n",
              "      <td>546.5</td>\n",
              "      <td>615.6</td>\n",
              "      <td>1471.8</td>\n",
              "    </tr>\n",
              "  </tbody>\n",
              "</table>\n",
              "</div>\n",
              "      <button class=\"colab-df-convert\" onclick=\"convertToInteractive('df-5df9bf67-af54-4177-9a94-1aa35ea8b1c0')\"\n",
              "              title=\"Convert this dataframe to an interactive table.\"\n",
              "              style=\"display:none;\">\n",
              "        \n",
              "  <svg xmlns=\"http://www.w3.org/2000/svg\" height=\"24px\"viewBox=\"0 0 24 24\"\n",
              "       width=\"24px\">\n",
              "    <path d=\"M0 0h24v24H0V0z\" fill=\"none\"/>\n",
              "    <path d=\"M18.56 5.44l.94 2.06.94-2.06 2.06-.94-2.06-.94-.94-2.06-.94 2.06-2.06.94zm-11 1L8.5 8.5l.94-2.06 2.06-.94-2.06-.94L8.5 2.5l-.94 2.06-2.06.94zm10 10l.94 2.06.94-2.06 2.06-.94-2.06-.94-.94-2.06-.94 2.06-2.06.94z\"/><path d=\"M17.41 7.96l-1.37-1.37c-.4-.4-.92-.59-1.43-.59-.52 0-1.04.2-1.43.59L10.3 9.45l-7.72 7.72c-.78.78-.78 2.05 0 2.83L4 21.41c.39.39.9.59 1.41.59.51 0 1.02-.2 1.41-.59l7.78-7.78 2.81-2.81c.8-.78.8-2.07 0-2.86zM5.41 20L4 18.59l7.72-7.72 1.47 1.35L5.41 20z\"/>\n",
              "  </svg>\n",
              "      </button>\n",
              "      \n",
              "  <style>\n",
              "    .colab-df-container {\n",
              "      display:flex;\n",
              "      flex-wrap:wrap;\n",
              "      gap: 12px;\n",
              "    }\n",
              "\n",
              "    .colab-df-convert {\n",
              "      background-color: #E8F0FE;\n",
              "      border: none;\n",
              "      border-radius: 50%;\n",
              "      cursor: pointer;\n",
              "      display: none;\n",
              "      fill: #1967D2;\n",
              "      height: 32px;\n",
              "      padding: 0 0 0 0;\n",
              "      width: 32px;\n",
              "    }\n",
              "\n",
              "    .colab-df-convert:hover {\n",
              "      background-color: #E2EBFA;\n",
              "      box-shadow: 0px 1px 2px rgba(60, 64, 67, 0.3), 0px 1px 3px 1px rgba(60, 64, 67, 0.15);\n",
              "      fill: #174EA6;\n",
              "    }\n",
              "\n",
              "    [theme=dark] .colab-df-convert {\n",
              "      background-color: #3B4455;\n",
              "      fill: #D2E3FC;\n",
              "    }\n",
              "\n",
              "    [theme=dark] .colab-df-convert:hover {\n",
              "      background-color: #434B5C;\n",
              "      box-shadow: 0px 1px 3px 1px rgba(0, 0, 0, 0.15);\n",
              "      filter: drop-shadow(0px 1px 2px rgba(0, 0, 0, 0.3));\n",
              "      fill: #FFFFFF;\n",
              "    }\n",
              "  </style>\n",
              "\n",
              "      <script>\n",
              "        const buttonEl =\n",
              "          document.querySelector('#df-5df9bf67-af54-4177-9a94-1aa35ea8b1c0 button.colab-df-convert');\n",
              "        buttonEl.style.display =\n",
              "          google.colab.kernel.accessAllowed ? 'block' : 'none';\n",
              "\n",
              "        async function convertToInteractive(key) {\n",
              "          const element = document.querySelector('#df-5df9bf67-af54-4177-9a94-1aa35ea8b1c0');\n",
              "          const dataTable =\n",
              "            await google.colab.kernel.invokeFunction('convertToInteractive',\n",
              "                                                     [key], {});\n",
              "          if (!dataTable) return;\n",
              "\n",
              "          const docLinkHtml = 'Like what you see? Visit the ' +\n",
              "            '<a target=\"_blank\" href=https://colab.research.google.com/notebooks/data_table.ipynb>data table notebook</a>'\n",
              "            + ' to learn more about interactive tables.';\n",
              "          element.innerHTML = '';\n",
              "          dataTable['output_type'] = 'display_data';\n",
              "          await google.colab.output.renderOutput(dataTable, element);\n",
              "          const docLink = document.createElement('div');\n",
              "          docLink.innerHTML = docLinkHtml;\n",
              "          element.appendChild(docLink);\n",
              "        }\n",
              "      </script>\n",
              "    </div>\n",
              "  </div>\n",
              "  "
            ]
          },
          "metadata": {},
          "execution_count": 60
        }
      ],
      "source": [
        "prediksi = X_test.iloc[:1].copy()\n",
        "pred_dict = {'y_true':y_test[:1]}\n",
        "for name, model in model_dict.items():\n",
        "    pred_dict['prediksi_'+name] = model.predict(prediksi).round(1)\n",
        " \n",
        "pd.DataFrame(pred_dict)\n"
      ]
    }
  ],
  "metadata": {
    "accelerator": "GPU",
    "colab": {
      "collapsed_sections": [
        "Qs6lfmYN25BG"
      ],
      "provenance": []
    },
    "gpuClass": "standard",
    "kernelspec": {
      "display_name": "Python 3",
      "name": "python3"
    },
    "language_info": {
      "name": "python"
    }
  },
  "nbformat": 4,
  "nbformat_minor": 0
}